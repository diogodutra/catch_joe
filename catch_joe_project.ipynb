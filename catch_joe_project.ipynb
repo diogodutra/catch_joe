{
 "cells": [
  {
   "cell_type": "markdown",
   "metadata": {},
   "source": [
    "# Project Catch Joe"
   ]
  },
  {
   "cell_type": "markdown",
   "metadata": {},
   "source": [
    "## Index\n",
    "\n",
    "1 Introduction  \n",
    "&emsp;&emsp; 1.1 Import modules  \n",
    "&emsp;&emsp; 1.2 Load dataset  \n",
    "    \n",
    " \n",
    "2 Data Exploration  \n",
    "&emsp;&emsp; 2.1 Location  \n",
    "&emsp;&emsp; 2.2 Gender  \n",
    "&emsp;&emsp; 2.3 Language  \n",
    "&emsp;&emsp; 2.4 Operating System  \n",
    "&emsp;&emsp; 2.5 Browser  \n",
    "&emsp;&emsp; 2.6 Time of the day  \n",
    "&emsp;&emsp; 2.7 Day of the week  \n",
    "&emsp;&emsp; 2.8 Day of the month  \n",
    "&emsp;&emsp; 2.9 Month of the year  \n",
    "&emsp;&emsp; 2.10 Duration  \n",
    "&emsp;&emsp; 2.11 Sites  \n",
    "    \n",
    "    \n",
    "3 Predictive Model  \n",
    "&emsp;&emsp; 3.1 Naive Guess Analysis  \n",
    "&emsp;&emsp; 3.2 Decision Tree  \n",
    "&emsp;&emsp; 3.3 Random Forest\n",
    "  \n",
    "  \n",
    "4 Save  \n",
    "&emsp;&emsp; 4.1 Storage model parameters  \n",
    "&emsp;&emsp; 4.2 Run on Verify dataset  \n",
    "&emsp;&emsp; 4.3 Export this Notebook to Python code"
   ]
  },
  {
   "cell_type": "markdown",
   "metadata": {},
   "source": [
    "<p>&nbsp;</p>\n",
    "\n",
    "# &#x2615;  1 Introduction"
   ]
  },
  {
   "cell_type": "markdown",
   "metadata": {},
   "source": [
    "## 1.1 Context"
   ]
  },
  {
   "cell_type": "markdown",
   "metadata": {},
   "source": [
    "The present Jupyter Notebook explains the process of creating a predictive model to identify an user access as **Joe** or **not-Joe** using this [dataset](https://drive.google.com/file/d/1nATkzOZUe6w5IWcFNE3AakzBl-6P-5Hw/view?usp=sharing).\n",
    "\n",
    "The dataset contains data about user sessions that have been recorded over a period of time. The dataset consists of two parts: the training dataset where user ID’s are labeled, and the verification set without labels.\n",
    "\n",
    "Each session is represented by a JSON object with the following fields:\n",
    "- `user_id` is the unique identifier of the user.\n",
    "- `browser`, `os`, `locale` contain info about the software on the user’s machine.\n",
    "- `gender`, `location` give analytics data about the user.\n",
    "- `date` and `time` is the moment when the session started (in GMT).\n",
    "- `sites` is a list of up to 15 sites visited during the session. For each site, the url and the length of visit in seconds are given."
   ]
  },
  {
   "cell_type": "markdown",
   "metadata": {},
   "source": [
    "## 1.1 Import modules"
   ]
  },
  {
   "cell_type": "code",
   "execution_count": 1,
   "metadata": {},
   "outputs": [],
   "source": [
    "import catch_joe\n",
    "from catch_joe import \\\n",
    "        extract_weekday, extract_duration, extract_hour_local, extract_lengths, \\\n",
    "        extract_sites_ratio, extract_sites_joe, extract_site_history,\\\n",
    "        extract_hosts, extract_hosts_joe, intersection_ratio, \\\n",
    "        categorize, encode_features, encode_joe, transform_features, print_scores"
   ]
  },
  {
   "cell_type": "code",
   "execution_count": 2,
   "metadata": {},
   "outputs": [],
   "source": [
    "import os\n",
    "from dtreeviz.trees import dtreeviz\n",
    "os.environ[\"PATH\"] += os.pathsep + 'C:/Users/Diogo/anaconda3/Library/bin/graphviz'\n",
    "\n",
    "from collections import Counter\n",
    "import pickle\n",
    "import pandas as pd\n",
    "import numpy as np\n",
    "\n",
    "from sklearn.model_selection import train_test_split\n",
    "from sklearn.preprocessing import LabelEncoder\n",
    "from sklearn.tree import DecisionTreeClassifier\n",
    "from sklearn.ensemble import AdaBoostClassifier, BaggingClassifier, RandomForestClassifier, GradientBoostingClassifier\n",
    "from sklearn.neighbors import KNeighborsClassifier\n",
    "from sklearn.metrics import accuracy_score, precision_score, recall_score, f1_score, make_scorer\n",
    "\n",
    "import seaborn as sns\n",
    "import matplotlib.pyplot as plt\n",
    "from IPython.display import Image\n",
    "from IPython.core.display import SVG"
   ]
  },
  {
   "cell_type": "code",
   "execution_count": 3,
   "metadata": {},
   "outputs": [],
   "source": [
    "from sklearn.neural_network import MLPClassifier\n",
    "from sklearn.neighbors import KNeighborsClassifier\n",
    "from sklearn.svm import SVC\n",
    "from sklearn.gaussian_process import GaussianProcessClassifier\n",
    "from sklearn.gaussian_process.kernels import RBF\n",
    "from sklearn.tree import DecisionTreeClassifier\n",
    "from sklearn.ensemble import RandomForestClassifier, AdaBoostClassifier\n",
    "from sklearn.naive_bayes import GaussianNB\n",
    "from sklearn.discriminant_analysis import QuadraticDiscriminantAnalysis"
   ]
  },
  {
   "cell_type": "markdown",
   "metadata": {},
   "source": [
    "## 1.2 Load dataset"
   ]
  },
  {
   "cell_type": "markdown",
   "metadata": {},
   "source": [
    "The dataframe below is what all the information available in the JSON file.\n",
    "\n",
    "It contains all the information in a typical JSON to be classified, except that this one has an extra column with the label `user_id` for training purpose. We will use it to create another column with booleans to explicit if it is related to `user_id = 0 `, nicknamed as **Joe**."
   ]
  },
  {
   "cell_type": "code",
   "execution_count": 4,
   "metadata": {},
   "outputs": [
    {
     "name": "stdout",
     "output_type": "stream",
     "text": [
      "(80000, 10)\n"
     ]
    },
    {
     "data": {
      "text/html": [
       "<div>\n",
       "<style scoped>\n",
       "    .dataframe tbody tr th:only-of-type {\n",
       "        vertical-align: middle;\n",
       "    }\n",
       "\n",
       "    .dataframe tbody tr th {\n",
       "        vertical-align: top;\n",
       "    }\n",
       "\n",
       "    .dataframe thead th {\n",
       "        text-align: right;\n",
       "    }\n",
       "</style>\n",
       "<table border=\"1\" class=\"dataframe\">\n",
       "  <thead>\n",
       "    <tr style=\"text-align: right;\">\n",
       "      <th></th>\n",
       "      <th>browser</th>\n",
       "      <th>os</th>\n",
       "      <th>locale</th>\n",
       "      <th>user_id</th>\n",
       "      <th>gender</th>\n",
       "      <th>location</th>\n",
       "      <th>sites</th>\n",
       "      <th>time</th>\n",
       "      <th>date</th>\n",
       "      <th>joe</th>\n",
       "    </tr>\n",
       "  </thead>\n",
       "  <tbody>\n",
       "    <tr>\n",
       "      <th>0</th>\n",
       "      <td>Firefox</td>\n",
       "      <td>Ubuntu</td>\n",
       "      <td>ru_RU</td>\n",
       "      <td>105</td>\n",
       "      <td>m</td>\n",
       "      <td>USA/Chicago</td>\n",
       "      <td>[{'site': 'mail.google.com', 'length': 50}, {'...</td>\n",
       "      <td>09:03:00</td>\n",
       "      <td>2017-01-08</td>\n",
       "      <td>False</td>\n",
       "    </tr>\n",
       "    <tr>\n",
       "      <th>1</th>\n",
       "      <td>Firefox</td>\n",
       "      <td>Windows 8</td>\n",
       "      <td>pl-PL</td>\n",
       "      <td>11</td>\n",
       "      <td>m</td>\n",
       "      <td>USA/Chicago</td>\n",
       "      <td>[{'site': 'meduza.org', 'length': 40}, {'site'...</td>\n",
       "      <td>13:57:00</td>\n",
       "      <td>2016-10-05</td>\n",
       "      <td>False</td>\n",
       "    </tr>\n",
       "    <tr>\n",
       "      <th>2</th>\n",
       "      <td>Chrome</td>\n",
       "      <td>Ubuntu</td>\n",
       "      <td>zh-CN</td>\n",
       "      <td>17</td>\n",
       "      <td>m</td>\n",
       "      <td>Singapore/Singapore</td>\n",
       "      <td>[{'site': 'facebook.net', 'length': 74}, {'sit...</td>\n",
       "      <td>02:06:00</td>\n",
       "      <td>2017-03-28</td>\n",
       "      <td>False</td>\n",
       "    </tr>\n",
       "    <tr>\n",
       "      <th>3</th>\n",
       "      <td>Chrome</td>\n",
       "      <td>Windows 10</td>\n",
       "      <td>pt-BR</td>\n",
       "      <td>134</td>\n",
       "      <td>f</td>\n",
       "      <td>Australia/Sydney</td>\n",
       "      <td>[{'site': 'verisign.com', 'length': 111}, {'si...</td>\n",
       "      <td>21:49:00</td>\n",
       "      <td>2017-06-25</td>\n",
       "      <td>False</td>\n",
       "    </tr>\n",
       "    <tr>\n",
       "      <th>4</th>\n",
       "      <td>Firefox</td>\n",
       "      <td>Windows 10</td>\n",
       "      <td>en-SG</td>\n",
       "      <td>92</td>\n",
       "      <td>f</td>\n",
       "      <td>USA/Chicago</td>\n",
       "      <td>[{'site': 'live.com', 'length': 79}, {'site': ...</td>\n",
       "      <td>00:05:00</td>\n",
       "      <td>2016-02-10</td>\n",
       "      <td>False</td>\n",
       "    </tr>\n",
       "  </tbody>\n",
       "</table>\n",
       "</div>"
      ],
      "text/plain": [
       "   browser          os locale  user_id gender             location  \\\n",
       "0  Firefox      Ubuntu  ru_RU      105      m          USA/Chicago   \n",
       "1  Firefox   Windows 8  pl-PL       11      m          USA/Chicago   \n",
       "2   Chrome      Ubuntu  zh-CN       17      m  Singapore/Singapore   \n",
       "3   Chrome  Windows 10  pt-BR      134      f     Australia/Sydney   \n",
       "4  Firefox  Windows 10  en-SG       92      f          USA/Chicago   \n",
       "\n",
       "                                               sites      time       date  \\\n",
       "0  [{'site': 'mail.google.com', 'length': 50}, {'...  09:03:00 2017-01-08   \n",
       "1  [{'site': 'meduza.org', 'length': 40}, {'site'...  13:57:00 2016-10-05   \n",
       "2  [{'site': 'facebook.net', 'length': 74}, {'sit...  02:06:00 2017-03-28   \n",
       "3  [{'site': 'verisign.com', 'length': 111}, {'si...  21:49:00 2017-06-25   \n",
       "4  [{'site': 'live.com', 'length': 79}, {'site': ...  00:05:00 2016-02-10   \n",
       "\n",
       "     joe  \n",
       "0  False  \n",
       "1  False  \n",
       "2  False  \n",
       "3  False  \n",
       "4  False  "
      ]
     },
     "execution_count": 4,
     "metadata": {},
     "output_type": "execute_result"
    }
   ],
   "source": [
    "file = './data/dataset.json'\n",
    "\n",
    "df = pd.read_json(file)\n",
    "\n",
    "# create target label as a separate column\n",
    "user_id_joe = 0\n",
    "df['joe'] = df['user_id'] == user_id_joe\n",
    "\n",
    "print(df.shape)\n",
    "df.head()"
   ]
  },
  {
   "cell_type": "markdown",
   "metadata": {},
   "source": [
    "Before everything, let's split the data now in order to guarantee that there is no _Data Leakage_ in the following phase during our data exploration and analysis. Mind that this is a time-series data, so we will split it in the chronological order (instead of random sampling). The later dataset will be used to test and score our predictive model."
   ]
  },
  {
   "cell_type": "code",
   "execution_count": 5,
   "metadata": {},
   "outputs": [
    {
     "data": {
      "text/plain": [
       "(72000, 10)"
      ]
     },
     "execution_count": 5,
     "metadata": {},
     "output_type": "execute_result"
    }
   ],
   "source": [
    "# split dataset into train and test\n",
    "# in chronological order (not random)\n",
    "\n",
    "test_ratio = 0.1\n",
    "df_later = df.sort_values(by='date').tail(int(test_ratio * df.shape[0]))\n",
    "\n",
    "df = df.drop(df_later.index) # train dataset\n",
    "\n",
    "df.shape"
   ]
  },
  {
   "cell_type": "markdown",
   "metadata": {},
   "source": [
    "<p>&nbsp;</p>\n",
    "\n",
    "# &#x1f4c8; 2 Data Exploration"
   ]
  },
  {
   "cell_type": "markdown",
   "metadata": {},
   "source": [
    "Let's go through a series of plots throughout the dataset in order to extract insights and patterns that will be used by our predictive model later on."
   ]
  },
  {
   "cell_type": "markdown",
   "metadata": {},
   "source": [
    "## 2.1 Gender"
   ]
  },
  {
   "cell_type": "markdown",
   "metadata": {},
   "source": [
    "The first feature to be explored is `gender`. Let's explore the hypothesis that Joe never changed their gender."
   ]
  },
  {
   "cell_type": "code",
   "execution_count": 189,
   "metadata": {},
   "outputs": [
    {
     "data": {
      "image/png": "[encoded data removed]",
      "text/plain": [
       "<Figure size 405.625x360 with 1 Axes>"
      ]
     },
     "metadata": {
      "needs_background": "light"
     },
     "output_type": "display_data"
    }
   ],
   "source": [
    "_ = sns.catplot(x='joe', hue='gender', kind='count', data=df)"
   ]
  },
  {
   "cell_type": "markdown",
   "metadata": {},
   "source": [
    "It seems that Joe is consistently identified as a male, since there is no log on his name as female. This insight is useful to discard around 40% of the dataset."
   ]
  },
  {
   "cell_type": "markdown",
   "metadata": {},
   "source": [
    "## 2.2 Location"
   ]
  },
  {
   "cell_type": "markdown",
   "metadata": {},
   "source": [
    "Now, let's now explore `location`. Unless Joe lives in a cruising ship, he probably has little change of location around the globe."
   ]
  },
  {
   "cell_type": "code",
   "execution_count": 190,
   "metadata": {},
   "outputs": [
    {
     "data": {
      "image/png": "[encoded data removed]",
      "text/plain": [
       "<Figure size 518.5x360 with 1 Axes>"
      ]
     },
     "metadata": {
      "needs_background": "light"
     },
     "output_type": "display_data"
    }
   ],
   "source": [
    "_ = sns.catplot(x='joe', hue='location', kind='count', data=df)"
   ]
  },
  {
   "cell_type": "code",
   "execution_count": 8,
   "metadata": {},
   "outputs": [
    {
     "data": {
      "text/plain": [
       "Counter({'France/Paris': 164, 'USA/Chicago': 160, 'Canada/Toronto': 35})"
      ]
     },
     "execution_count": 8,
     "metadata": {},
     "output_type": "execute_result"
    }
   ],
   "source": [
    "Counter(df[df['joe']]['location'])"
   ]
  },
  {
   "cell_type": "markdown",
   "metadata": {},
   "source": [
    "Joe accessed from Paris, Chicago and Toronto only. This is helpful to discard the other 18 locations."
   ]
  },
  {
   "cell_type": "markdown",
   "metadata": {},
   "source": [
    "## 2.3 Language"
   ]
  },
  {
   "cell_type": "markdown",
   "metadata": {},
   "source": [
    "Let's now explore `locale`. It is rare to find an active polyglot so let's explore this hypothesis."
   ]
  },
  {
   "cell_type": "code",
   "execution_count": 191,
   "metadata": {},
   "outputs": [
    {
     "data": {
      "image/png": "[encoded data removed]",
      "text/plain": [
       "<Figure size 427.5x360 with 1 Axes>"
      ]
     },
     "metadata": {
      "needs_background": "light"
     },
     "output_type": "display_data"
    }
   ],
   "source": [
    "_ = sns.catplot(x='joe', hue='locale', kind='count', data=df)"
   ]
  },
  {
   "cell_type": "code",
   "execution_count": 10,
   "metadata": {},
   "outputs": [
    {
     "data": {
      "text/plain": [
       "Counter({'ru_RU': 359})"
      ]
     },
     "execution_count": 10,
     "metadata": {},
     "output_type": "execute_result"
    }
   ],
   "source": [
    "Counter(df[df['joe']]['locale'])"
   ]
  },
  {
   "cell_type": "markdown",
   "metadata": {},
   "source": [
    "Despite the fact that Joe has many access from France, USA and Canada, his sessions are always in Russian language. Again, this eliminates all the other languages."
   ]
  },
  {
   "cell_type": "markdown",
   "metadata": {},
   "source": [
    "## 2.4 Operating System"
   ]
  },
  {
   "cell_type": "markdown",
   "metadata": {},
   "source": [
    "If Joe is not a geek than he is probably using only one or two different `os`."
   ]
  },
  {
   "cell_type": "code",
   "execution_count": 192,
   "metadata": {},
   "outputs": [
    {
     "data": {
      "image/png": "[encoded data removed]",
      "text/plain": [
       "<Figure size 456.625x360 with 1 Axes>"
      ]
     },
     "metadata": {
      "needs_background": "light"
     },
     "output_type": "display_data"
    }
   ],
   "source": [
    "_ = sns.catplot(x='joe', hue='os', kind='count', data=df)"
   ]
  },
  {
   "cell_type": "markdown",
   "metadata": {},
   "source": [
    "Indeed, Joe uses only Ubuntu and Windows 10. This rules out MacOS, Debian and the rest of the Microsoft's OS."
   ]
  },
  {
   "cell_type": "markdown",
   "metadata": {},
   "source": [
    "## 2.5 Browser"
   ]
  },
  {
   "cell_type": "markdown",
   "metadata": {},
   "source": [
    "For the same reason explained before for the OS, Joe is probably using only a couple of `browsers`."
   ]
  },
  {
   "cell_type": "code",
   "execution_count": 193,
   "metadata": {},
   "outputs": [
    {
     "data": {
      "image/png": "[encoded data removed]",
      "text/plain": [
       "<Figure size 480.5x360 with 1 Axes>"
      ]
     },
     "metadata": {
      "needs_background": "light"
     },
     "output_type": "display_data"
    }
   ],
   "source": [
    "_ = sns.catplot(x='joe', hue='browser', kind='count', data=df)"
   ]
  },
  {
   "cell_type": "markdown",
   "metadata": {},
   "source": [
    "Joe always uses Firefox and Chrome, ruling out Internet Explorer and Safari."
   ]
  },
  {
   "cell_type": "markdown",
   "metadata": {},
   "source": [
    "## 2.6 Time of the day"
   ]
  },
  {
   "cell_type": "markdown",
   "metadata": {},
   "source": [
    "Let's now verify the hypothesis that Joe accesses internet only in some specific hours of the day. Mind that there is a conversion from GMT to local timezone."
   ]
  },
  {
   "cell_type": "code",
   "execution_count": 13,
   "metadata": {},
   "outputs": [
    {
     "data": {
      "image/png": "[encoded data removed]",
      "text/plain": [
       "<Figure size 432x288 with 1 Axes>"
      ]
     },
     "metadata": {
      "needs_background": "light"
     },
     "output_type": "display_data"
    }
   ],
   "source": [
    "df['hour'] = extract_hour_local(df)\n",
    "\n",
    "# plot\n",
    "sns.distplot(df['hour'],            norm_hist=True, kde=False, rug=False, bins=24)\n",
    "sns.distplot(df[df['joe']]['hour'], norm_hist=True, kde=False, rug=False, bins=24)\n",
    "plt.legend(['all', 'joe'])\n",
    "plt.title('Histogram of accesses per hour of the day')\n",
    "_ = plt.ylabel('density of occurrencies')"
   ]
  },
  {
   "cell_type": "markdown",
   "metadata": {},
   "source": [
    "Joe accesses internet only during lunch or dinner. Therefore, hour of access is yet another relevant information to be used by our classifier."
   ]
  },
  {
   "cell_type": "markdown",
   "metadata": {},
   "source": [
    "## 2.7 Day of the week"
   ]
  },
  {
   "cell_type": "markdown",
   "metadata": {},
   "source": [
    "Following the rationale from the previous subsection, let's verify the hypothesis that Joe accesses internet only in some specific days of the week."
   ]
  },
  {
   "cell_type": "code",
   "execution_count": 275,
   "metadata": {},
   "outputs": [
    {
     "data": {
      "image/png": "[encoded data removed]",
      "text/plain": [
       "<Figure size 720x288 with 1 Axes>"
      ]
     },
     "metadata": {
      "needs_background": "light"
     },
     "output_type": "display_data"
    }
   ],
   "source": [
    "df['weekday'] = extract_weekday(df)\n",
    "\n",
    "plt.figure(figsize=(10,4))\n",
    "_ = sns.barplot(data=df[['weekday', 'duration', 'joe']].groupby(['weekday', 'joe']).mean().reset_index(),\n",
    "            x='weekday', y='duration', hue='joe')"
   ]
  },
  {
   "cell_type": "code",
   "execution_count": 15,
   "metadata": {},
   "outputs": [
    {
     "data": {
      "text/plain": [
       "Counter({'Saturday': 53,\n",
       "         'Tuesday': 52,\n",
       "         'Sunday': 53,\n",
       "         'Friday': 54,\n",
       "         'Wednesday': 49,\n",
       "         'Monday': 46,\n",
       "         'Thursday': 52})"
      ]
     },
     "execution_count": 15,
     "metadata": {},
     "output_type": "execute_result"
    }
   ],
   "source": [
    "Counter(df[df['joe']]['weekday'])"
   ]
  },
  {
   "cell_type": "markdown",
   "metadata": {},
   "source": [
    "There are some usedful patterns along the days of the week! For instance, on the one hand Joe acesses internet on Mondays less often (`46` from the counter) but on the other hand when he does so he spend the most time on average. As a consequence, let's drop this feature."
   ]
  },
  {
   "cell_type": "markdown",
   "metadata": {},
   "source": [
    "## 2.8 Day of the month"
   ]
  },
  {
   "cell_type": "markdown",
   "metadata": {},
   "source": [
    "Let's verify if Joe has different frequency of access along the days of the month."
   ]
  },
  {
   "cell_type": "code",
   "execution_count": 195,
   "metadata": {},
   "outputs": [
    {
     "data": {
      "image/png": "[encoded data removed]",
      "text/plain": [
       "<Figure size 418.625x360 with 1 Axes>"
      ]
     },
     "metadata": {
      "needs_background": "light"
     },
     "output_type": "display_data"
    }
   ],
   "source": [
    "df['monthday'] = [date.day for date in df['date']]\n",
    "\n",
    "_ = sns.catplot(x='joe', hue='monthday', kind='count', data=df)"
   ]
  },
  {
   "cell_type": "code",
   "execution_count": 274,
   "metadata": {},
   "outputs": [
    {
     "data": {
      "image/png": "[encoded data removed]",
      "text/plain": [
       "<Figure size 720x288 with 1 Axes>"
      ]
     },
     "metadata": {
      "needs_background": "light"
     },
     "output_type": "display_data"
    }
   ],
   "source": [
    "plt.figure(figsize=(10,4))\n",
    "_ = sns.barplot(data=df[['monthday', 'duration', 'joe']].groupby(['monthday', 'joe']).mean().reset_index(),\n",
    "            x='monthday', y='duration', hue='joe')"
   ]
  },
  {
   "cell_type": "markdown",
   "metadata": {},
   "source": [
    "It seems that Joe browses for longer durations along the days of the month, following a repeating pattern with a period of roughly 1 week. More importantly, this differs from the population's pattern so it is useful to find Joe as well."
   ]
  },
  {
   "cell_type": "markdown",
   "metadata": {},
   "source": [
    "## 2.9 Month of the year"
   ]
  },
  {
   "cell_type": "markdown",
   "metadata": {},
   "source": [
    "Now, let's check the data regarding the months of the year."
   ]
  },
  {
   "cell_type": "code",
   "execution_count": 279,
   "metadata": {},
   "outputs": [
    {
     "data": {
      "text/plain": [
       "(Timestamp('2016-01-14 00:00:00'), Timestamp('2017-07-07 00:00:00'))"
      ]
     },
     "execution_count": 279,
     "metadata": {},
     "output_type": "execute_result"
    }
   ],
   "source": [
    "df.date.min(), df.date.max()"
   ]
  },
  {
   "cell_type": "markdown",
   "metadata": {},
   "source": [
    "Unfortuately, the training dataset contains around 1.5 years of timespan. It means that 6 (out of the 12 months) have twice more probability to appear in the data. This could be lead to overfitting, so let's not include this feature."
   ]
  },
  {
   "cell_type": "markdown",
   "metadata": {},
   "source": [
    "## 2.10 Duration"
   ]
  },
  {
   "cell_type": "code",
   "execution_count": 197,
   "metadata": {},
   "outputs": [
    {
     "data": {
      "image/png": "[encoded data removed]",
      "text/plain": [
       "<Figure size 432x288 with 1 Axes>"
      ]
     },
     "metadata": {
      "needs_background": "light"
     },
     "output_type": "display_data"
    }
   ],
   "source": [
    "df['duration'] = extract_duration(df)\n",
    "\n",
    "sns.distplot(df           ['duration'])\n",
    "sns.distplot(df[df['joe']]['duration'])\n",
    "plt.xlabel('duration of each session')\n",
    "plt.ylabel('probability density')\n",
    "_ = plt.legend(['all', 'Joe'])"
   ]
  },
  {
   "cell_type": "markdown",
   "metadata": {},
   "source": [
    "Joe's duration of access is only slightly off the statistical boundaries of the whole population. Nonetheless, let's keep this feature since it might be useful when correlated with other features (ie: he might access some specific sites for longer)."
   ]
  },
  {
   "cell_type": "markdown",
   "metadata": {},
   "source": [
    "# 2.11 Sites"
   ]
  },
  {
   "cell_type": "markdown",
   "metadata": {},
   "source": [
    "The list of sites accessed per session and its respective lengths do sound like a pretty relevant information. We all have our own favorite sites that we access most often by far from the others. If such data is the user's \"digital footprint\" then their \"digital gait\" could be used to identify them, hopefully including Joe."
   ]
  },
  {
   "cell_type": "code",
   "execution_count": 19,
   "metadata": {},
   "outputs": [
    {
     "name": "stdout",
     "output_type": "stream",
     "text": [
      "1079 sites accessed by Joe.\n"
     ]
    }
   ],
   "source": [
    "sites_joe = extract_sites_joe(df)\n",
    "print(len(sites_joe), 'sites accessed by Joe.')"
   ]
  },
  {
   "cell_type": "code",
   "execution_count": 22,
   "metadata": {},
   "outputs": [
    {
     "name": "stdout",
     "output_type": "stream",
     "text": [
      "Most and least sites accessed by Joe:\n",
      "\n",
      "ADDRESS \t AVERAGE LENGTH OF SESSION\n"
     ]
    },
    {
     "data": {
      "text/plain": [
       "lenta.ru             126.693593\n",
       "slack.com            120.256267\n",
       "mail.google.com      119.462396\n",
       "toptal.com           119.144847\n",
       "vk.com               113.791086\n",
       "                        ...    \n",
       "univ-paris12.fr        0.111421\n",
       "ifsttar.fr             0.111421\n",
       "calendrier-365.fr      0.111421\n",
       "smartsheet.com         0.111421\n",
       "airbnb.fr              0.111421\n",
       "Length: 1079, dtype: float64"
      ]
     },
     "execution_count": 22,
     "metadata": {},
     "output_type": "execute_result"
    }
   ],
   "source": [
    "sites_joe_list = list(sites_joe)\n",
    "df_sites_joe_length = extract_lengths(df[df['joe']], sites_joe_list)\n",
    "df_sites_joe_length = df_sites_joe_length.mean().sort_values(ascending=False)\n",
    "\n",
    "print(\"Most and least sites accessed by Joe:\")\n",
    "print('\\nADDRESS \\t AVERAGE LENGTH OF SESSION')\n",
    "df_sites_joe_length"
   ]
  },
  {
   "cell_type": "code",
   "execution_count": 23,
   "metadata": {},
   "outputs": [
    {
     "name": "stdout",
     "output_type": "stream",
     "text": [
      "Most and least sites accessed by the whole population:\n",
      "\n",
      "ADDRESS \t AVERAGE LENGTH OF SESSION\n"
     ]
    },
    {
     "data": {
      "text/plain": [
       "youtube.com             39.097875\n",
       "toptal.com              31.048542\n",
       "slack.com               30.621389\n",
       "vk.com                  26.454833\n",
       "lenta.ru                25.212111\n",
       "                          ...    \n",
       "cnrm-game.fr             0.016111\n",
       "as.com                   0.015694\n",
       "courtine.org             0.015375\n",
       "adgrx.com                0.014389\n",
       "foret-broceliande.fr     0.014375\n",
       "Length: 1079, dtype: float64"
      ]
     },
     "execution_count": 23,
     "metadata": {},
     "output_type": "execute_result"
    }
   ],
   "source": [
    "df_sites_all_length = extract_lengths(df, sites_joe_list)\n",
    "\n",
    "print(\"Most and least sites accessed by the whole population:\")\n",
    "print('\\nADDRESS \\t AVERAGE LENGTH OF SESSION')\n",
    "df_sites_all_length.mean().sort_values(ascending=False)"
   ]
  },
  {
   "cell_type": "markdown",
   "metadata": {},
   "source": [
    "The sites most accessed by Joe have links and lengths different than the population. So, this information is useful as well.\n",
    "\n",
    "However, let's extract only the top ones in order to avoid overfitting and heavy computational cost. The quantity of top sites in the list (`500`) was defined by rerunning this notebook many times with decreasing numbers from the maximum until the performance of the best classifier started to drop."
   ]
  },
  {
   "cell_type": "code",
   "execution_count": 24,
   "metadata": {
    "scrolled": true
   },
   "outputs": [],
   "source": [
    "top_sites = 500\n",
    "joe_all_sites = list(df_sites_joe_length[:top_sites].index)\n",
    "joe_top_sites = joe_all_sites[:top_sites]"
   ]
  },
  {
   "cell_type": "code",
   "execution_count": 26,
   "metadata": {},
   "outputs": [
    {
     "data": {
      "text/plain": [
       "lenta.ru           126.693593\n",
       "slack.com          120.256267\n",
       "mail.google.com    119.462396\n",
       "toptal.com         119.144847\n",
       "vk.com             113.791086\n",
       "dtype: float64"
      ]
     },
     "execution_count": 26,
     "metadata": {},
     "output_type": "execute_result"
    }
   ],
   "source": [
    "df_sites_joe_length.head()"
   ]
  },
  {
   "cell_type": "markdown",
   "metadata": {},
   "source": [
    "We don't need to throw away the information related to the rest of the websites that were never accessed by Joe. Let's create another feature with as a flag if any of the sites in a session was ever accessed by Joe.\n",
    "\n",
    "We will not plot this data because obviously it would bring no useful insight, since all the plots from Joe's accesses will be True as opposite to a part of the training dataset"
   ]
  },
  {
   "cell_type": "code",
   "execution_count": 57,
   "metadata": {},
   "outputs": [],
   "source": [
    "df['site_history'] = extract_site_history(df, sites_joe)"
   ]
  },
  {
   "cell_type": "markdown",
   "metadata": {},
   "source": [
    "<p>&nbsp;</p>\n",
    "\n",
    "# &#128187; 3 Predictive Model"
   ]
  },
  {
   "cell_type": "markdown",
   "metadata": {},
   "source": [
    "## 3.1 Naive Guess Analysis"
   ]
  },
  {
   "cell_type": "markdown",
   "metadata": {},
   "source": [
    "The previously mentioned features are good enough to safely tell whenever is not Joe.\n",
    "\n",
    "What if they are good enough to be queried independentely as filters to discard parts of the data until we have only Joe left?\n",
    "\n",
    "In orde to find this out, let's check how many logs match exactly the Joe's history from the categorical features. "
   ]
  },
  {
   "cell_type": "code",
   "execution_count": 60,
   "metadata": {},
   "outputs": [],
   "source": [
    "# define list of features to be used by the classifier\n",
    "\n",
    "features_categorical = ['gender', 'os', 'browser', 'location', 'locale', 'hour', 'weekday', 'site_history']\n",
    "\n",
    "features = features_categorical + ['duration'] + joe_top_sites"
   ]
  },
  {
   "cell_type": "code",
   "execution_count": 61,
   "metadata": {},
   "outputs": [
    {
     "name": "stdout",
     "output_type": "stream",
     "text": [
      "Original dataset contains 72000 logs.\n",
      "Like-Joe dataset contains 897 logs (1%).\n"
     ]
    }
   ],
   "source": [
    "df_like_joe = df.copy()\n",
    "\n",
    "filter_data = {feat: set(df[df['joe']][feat]) for feat in features_categorical}\n",
    "\n",
    "for feature, valid_entries in filter_data.items():\n",
    "    df_like_joe = df_like_joe[df_like_joe[feature].isin(valid_entries)]\n",
    "\n",
    "    \n",
    "# extract set of multiple website entries from Joe's logs\n",
    "sites_joe = extract_sites_joe(df)#{site.get('site') for sites in df_like_joe['sites'] for site in sites}\n",
    "df_like_joe = df_like_joe[list(map(lambda x:\n",
    "                any(site.get('site') in sites_joe for site in x), df_like_joe['sites']))]\n",
    "    \n",
    "    \n",
    "print('Original dataset contains', df.shape[0], 'logs.')\n",
    "print('Like-Joe dataset contains', df_like_joe.shape[0], 'logs',\n",
    "     \"({0:.0%}).\".format(df_like_joe.shape[0] / df.shape[0]))"
   ]
  },
  {
   "cell_type": "markdown",
   "metadata": {},
   "source": [
    "Filtering the sessions that do not match Joe's history is enough to discard a large piece of the dataset.\n",
    "\n",
    "But how many of the left logs are our Joe indeed?"
   ]
  },
  {
   "cell_type": "code",
   "execution_count": 62,
   "metadata": {},
   "outputs": [
    {
     "name": "stdout",
     "output_type": "stream",
     "text": [
      "Counter({False: 538, True: 359})\n",
      "False and True sessions ratio from Joe: 60.0%, 40.0%\n"
     ]
    }
   ],
   "source": [
    "count = Counter(df_like_joe['joe'])\n",
    "print(count)\n",
    "\n",
    "is_joe = np.asarray([count[False], count[True]])\n",
    "is_joe = list(is_joe / is_joe.sum())\n",
    "\n",
    "print('False and True sessions ratio from Joe:', ', '.join('{0:.1%}'.format(i) for i in is_joe))"
   ]
  },
  {
   "cell_type": "code",
   "execution_count": 63,
   "metadata": {},
   "outputs": [
    {
     "name": "stdout",
     "output_type": "stream",
     "text": [
      "5 total of user_id with same logs than Joe: 0 192 15 181 56\n"
     ]
    }
   ],
   "source": [
    "user_id_like_joe = set(df_like_joe['user_id'])\n",
    "print(len(user_id_like_joe), 'total of user_id with same logs than Joe:', *user_id_like_joe)"
   ]
  },
  {
   "cell_type": "markdown",
   "metadata": {},
   "source": [
    "Despite the fact that the filter above efficiently removed most of the dataset, there are yet some sessions from a few people with enough occurencies to be a majority over Joe. This is yet something to be tackled, since we don't want these people being taken as Joe."
   ]
  },
  {
   "cell_type": "markdown",
   "metadata": {},
   "source": [
    "Before creating our predictive model in the next subsection, let's calculate the naive guess performance. We know that the majority of the data is not from Joe so the naive guess classifier always assume that the result is 1 (not Joe)."
   ]
  },
  {
   "cell_type": "code",
   "execution_count": 64,
   "metadata": {},
   "outputs": [],
   "source": [
    "df_train = df.copy()\n",
    "\n",
    "df_train, le = categorize(df_train, features_categorical)\n",
    "\n",
    "y_train = encode_joe(df_train['user_id'] == user_id_joe)\n",
    "df_train = transform_features(df_train, features, features_categorical, joe_top_sites, sites_joe, hosts_joe, le)\n",
    "\n",
    "for host in hosts_joe:\n",
    "    df_train[host] = [sum(map(lambda x: x.get('length') * (x.get('site').split('.')[-1] == host), sites)) for sites in df['sites']]\n",
    "\n",
    "X_train = df_train[features].values"
   ]
  },
  {
   "cell_type": "code",
   "execution_count": 65,
   "metadata": {},
   "outputs": [
    {
     "name": "stdout",
     "output_type": "stream",
     "text": [
      "Performance of naive guess on train dataset:\n",
      "99.5014% is the accuracy of the classifier.\n",
      "0.0000% is the F1-score of the classifier.\n",
      "0.00% of the Joe's accesses are detected.\n",
      "0.00% of the detections are truly from Joe.\n"
     ]
    },
    {
     "name": "stderr",
     "output_type": "stream",
     "text": [
      "C:\\Users\\Diogo\\anaconda3\\lib\\site-packages\\sklearn\\metrics\\_classification.py:1268: UndefinedMetricWarning: Recall is ill-defined and being set to 0.0 due to no true samples. Use `zero_division` parameter to control this behavior.\n",
      "  _warn_prf(average, modifier, msg_start, len(result))\n"
     ]
    }
   ],
   "source": [
    "y_pred = [1] * len(y_train)\n",
    "\n",
    "print('Performance of naive guess on train dataset:')\n",
    "print_scores(y_pred, y_train)"
   ]
  },
  {
   "cell_type": "markdown",
   "metadata": {},
   "source": [
    "As expected, the accuracy score is quite high because the data is largely imbalanced with not-Joe sessions.\n",
    "\n",
    "Moreover, precision and recall scores are obviously nulls because the naive guess blindly guesses as not Joe.\n",
    "\n",
    "For these reasons, **our chosen metric will be the F1-score**, resulting in:\n",
    "- F1-score = 0% is our reference as benchmarked by our naive guess; and\n",
    "- Both precision and recall scores are going to be equally considered."
   ]
  },
  {
   "cell_type": "markdown",
   "metadata": {},
   "source": [
    "## 3.2 Decision Tree"
   ]
  },
  {
   "cell_type": "markdown",
   "metadata": {},
   "source": [
    "Maybe, the correlation of every restriction is better enough to find Joe out of the other few people above. For instance, Joe might be the only one who uses Firefox (`browser`) on Windows 10 (`os`)."
   ]
  },
  {
   "cell_type": "markdown",
   "metadata": {},
   "source": [
    "In order to check if this hypothesis, let's plot some correlations.\n",
    "\n",
    "Correlation is an usuful plot to show the influence of one information on the other."
   ]
  },
  {
   "cell_type": "code",
   "execution_count": 178,
   "metadata": {},
   "outputs": [
    {
     "data": {
      "image/png": "[encoded data removed]",
      "text/plain": [
       "<Figure size 432x288 with 2 Axes>"
      ]
     },
     "metadata": {
      "needs_background": "light"
     },
     "output_type": "display_data"
    }
   ],
   "source": [
    "corr_all = abs(df_train.iloc[:, :30].corr())\n",
    "_ = sns.heatmap(corr_all, square=True)"
   ]
  },
  {
   "cell_type": "markdown",
   "metadata": {},
   "source": [
    "Above is the correlation plot for the whole population (with a few dozens of features onlyfor pratical reasons). It reveals that usually there is no remarkable correlation between features to the point that we could drop some as redundant. The only average correlations are os/browser, duration/some sites and 1 pair on sites.\n",
    "\n",
    "Let's compare it with the correlation from Joe's sessions only."
   ]
  },
  {
   "cell_type": "code",
   "execution_count": 179,
   "metadata": {},
   "outputs": [
    {
     "data": {
      "image/png": "[encoded data removed]",
      "text/plain": [
       "<Figure size 432x288 with 2 Axes>"
      ]
     },
     "metadata": {
      "needs_background": "light"
     },
     "output_type": "display_data"
    }
   ],
   "source": [
    "corr_joe = abs(df_train[np.array(y_train)==user_id_joe].iloc[:, :30].corr())\n",
    "_ = sns.heatmap(corr_joe, square=True)"
   ]
  },
  {
   "cell_type": "markdown",
   "metadata": {},
   "source": [
    "The Joe's correlation plot above reveals some visual differences from the population plot. These differences are peculiarities in Joe's behavior that differs from the population. This means that Joe has a particular pattern combining these features that are surely be useful for our classifier (ie: he may navigate for longer periods by the end of the month due to some private monthly dealines).\n",
    "> **_NOTE:_**  The features in blank mean that the correlation does not make sense due to lack of variance (ie: `user_id`, `joe` and `site_history` are constants)"
   ]
  },
  {
   "cell_type": "markdown",
   "metadata": {},
   "source": [
    "After realizing the importance of combining multiple features in order to find useful patterns, let's create a simple Decision Tree, train it on the single-entries categorical features and check it's performance to detect Joe."
   ]
  },
  {
   "cell_type": "code",
   "execution_count": 186,
   "metadata": {},
   "outputs": [
    {
     "name": "stdout",
     "output_type": "stream",
     "text": [
      "Performance on train dataset:\n",
      "99.5500% is the accuracy of the classifier.\n",
      "17.7665% is the F1-score of the classifier.\n",
      "100.00% of the Joe's accesses are detected.\n",
      "9.75% of the detections are truly from Joe.\n"
     ]
    }
   ],
   "source": [
    "# train model\n",
    "n_features_categorical = len(features_categorical)\n",
    "model = DecisionTreeClassifier(max_depth=3).fit(X_train[:, :n_features_categorical], y_train)\n",
    "\n",
    "print('Performance on train dataset:')\n",
    "y_pred = model.predict(X_train[:, :n_features_categorical])\n",
    "print_scores(y_pred, y_train)"
   ]
  },
  {
   "cell_type": "markdown",
   "metadata": {},
   "source": [
    "The Decision Tree presents a slight increase of performance when compared to the naive guess. However, it is far from excellent since there are too wrong detections. Therefore, let's try other more sophisticated models aiming for a improvement in the performance (higher F1-score)."
   ]
  },
  {
   "cell_type": "markdown",
   "metadata": {},
   "source": [
    "Before we move on to improve the performance, here is a question. How exactly does this Decision Tree above work in order to classify?\n",
    "\n",
    "In order to help us answer this question, let's plot the nodes of the Decision Tree as a graph plot below."
   ]
  },
  {
   "cell_type": "code",
   "execution_count": 332,
   "metadata": {},
   "outputs": [],
   "source": [
    "viz = dtreeviz(model, X_train[:, :n_features_categorical], np.asarray(y_train),\n",
    "                class_names=['Joe', 'not Joe'],\n",
    "                feature_names=features_categorical,\n",
    "        )\n",
    "viz_file = 'decision_tree.svg'\n",
    "viz.save(viz_file) # saves svg in local folder\n",
    "# SVG(filename=viz_file) # plots svg in Jupyter Notebook\n",
    "# Image(filename='decision_tree.jpg') # or like this"
   ]
  },
  {
   "cell_type": "markdown",
   "metadata": {},
   "source": [
    "after converting the SVG to JPG, we get this\n",
    "\n",
    "![](decision_tree.jpg)"
   ]
  },
  {
   "cell_type": "code",
   "execution_count": 69,
   "metadata": {},
   "outputs": [
    {
     "data": {
      "text/plain": [
       "array(['ru_RU'], dtype=object)"
      ]
     },
     "execution_count": 69,
     "metadata": {},
     "output_type": "execute_result"
    }
   ],
   "source": [
    "le['locale'].inverse_transform([18])"
   ]
  },
  {
   "cell_type": "markdown",
   "metadata": {},
   "source": [
    "The graph above shows that the Decision Tree queries the features in the following order:\n",
    "1. If the language (`locale`) is less than 17.5 then is not Joe with 100% of certainty; else ...\n",
    "1. If the language (`locale`) is more than 18.5 then is is not Joe with 100% of certainty; else ...\n",
    "1. If the (encoded) location of access is less than 3.5 than it is Joe with 100% of certainty; else ...\n",
    "1. We run out of questions so it guesses it is not Joe with roughly 10% of error.\n",
    "\n",
    "Mind that `locale = 18` is the Russian language as coded by the `LabelEncoder`. Therefore, the first 2 questions above are mainly telling us that if the language of access is not Russian than it is not \n",
    "Joe for sure."
   ]
  },
  {
   "cell_type": "markdown",
   "metadata": {},
   "source": [
    "## 3.3 Random Forest"
   ]
  },
  {
   "cell_type": "markdown",
   "metadata": {},
   "source": [
    "Finally, now we create our final predictive model."
   ]
  },
  {
   "cell_type": "markdown",
   "metadata": {},
   "source": [
    "Let's start by preparing the test dataset following the same feature extraction pipeline as we did for the training dataset."
   ]
  },
  {
   "cell_type": "code",
   "execution_count": 70,
   "metadata": {},
   "outputs": [],
   "source": [
    "# prepare test dataset\n",
    "df_test = df_later.copy()\n",
    "y_test = encode_joe(df_test['user_id'] == user_id_joe)\n",
    "df_test = transform_features(df_test, features, features_categorical, joe_top_sites, sites_joe, hosts_joe, le)\n",
    "\n",
    "for host in hosts_joe:\n",
    "    df_test[host] = [sum(map(lambda x: x.get('length') * (x.get('site').split('.')[-1] == host), sites)) for sites in df_later['sites']]\n",
    "\n",
    "X_test = df_test[features].values"
   ]
  },
  {
   "cell_type": "markdown",
   "metadata": {},
   "source": [
    "Now, let us instantiate and try some more sophisticted models candidates in order to select the one with best performance."
   ]
  },
  {
   "cell_type": "code",
   "execution_count": 71,
   "metadata": {
    "scrolled": false
   },
   "outputs": [
    {
     "name": "stdout",
     "output_type": "stream",
     "text": [
      "F1 test\t F1 train\t Model\n",
      "60.345%\t 100.000%\t DecisionTreeClassifier\n",
      "67.213%\t 45.490%\t AdaBoostClassifier\n",
      "58.120%\t 97.734%\t BaggingClassifier\n",
      "84.507%\t 99.861%\t RandomForestClassifier\n",
      "4.878%\t 55.616%\t GaussianNB\n",
      "\n",
      "Best model: RandomForestClassifier\n",
      "\n",
      "Performance on train dataset:\n",
      "99.9986% is the accuracy of the classifier.\n",
      "99.8605% is the F1-score of the classifier.\n",
      "99.72% of the Joe's accesses are detected.\n",
      "100.00% of the detections are truly from Joe.\n",
      "\n",
      "Performance on test dataset:\n",
      "99.8625% is the accuracy of the classifier.\n",
      "84.5070% is the F1-score of the classifier.\n",
      "73.17% of the Joe's accesses are detected.\n",
      "100.00% of the detections are truly from Joe.\n"
     ]
    }
   ],
   "source": [
    "score_function = lambda x, y: f1_score(x, y, pos_label=user_id_joe)\n",
    "\n",
    "models = [\n",
    "    DecisionTreeClassifier(),\n",
    "    AdaBoostClassifier(),\n",
    "    BaggingClassifier(),\n",
    "    RandomForestClassifier(),\n",
    "    GaussianNB(),\n",
    "    \n",
    "    # these below were not included because\n",
    "    # they take a long time and they\n",
    "    # ended up not being selected anyway\n",
    "    \n",
    "#     GradientBoostingClassifier(),\n",
    "#     KNeighborsClassifier(n_neighbors=200),    \n",
    "#     QuadraticDiscriminantAnalysis(),\n",
    "#     GaussianProcessClassifier(),\n",
    "#     GaussianProcessClassifier(1.0 * RBF(1.0)),\n",
    "#     SVC(),    \n",
    "#     SVC(kernel=\"linear\", C=0.025),\n",
    "#     SVC(gamma=2, C=1),\n",
    "#     MLPClassifier(),\n",
    "]\n",
    "\n",
    "print('F1 test\\t F1 train\\t Model')\n",
    "\n",
    "score_best = -np.Inf\n",
    "best_model = None\n",
    "for i_model, model in enumerate(models):\n",
    "    model.fit(X_train, y_train)\n",
    "    y_pred = model.predict(X_test)\n",
    "    score = score_function(y_test, y_pred)\n",
    "        \n",
    "    print('{0:.3%}\\t'.format(score),\n",
    "          '{0:.3%}\\t'.format(score_function(y_train, model.predict(X_train))),\n",
    "          type(model).__name__)\n",
    "    \n",
    "    if score > score_best:\n",
    "        score_best = score\n",
    "        best_model = model\n",
    "    \n",
    "\n",
    "\n",
    "print('\\nBest model:', type(best_model).__name__)\n",
    "\n",
    "print('\\nPerformance on train dataset:')\n",
    "y_pred = best_model.predict(X_train)\n",
    "print_scores(y_train, y_pred)\n",
    "\n",
    "print('\\nPerformance on test dataset:')\n",
    "y_pred = best_model.predict(X_test)\n",
    "print_scores(y_test, y_pred)"
   ]
  },
  {
   "cell_type": "markdown",
   "metadata": {},
   "source": [
    "The best classifier performance trained above is much better than the previous Decision Tree. On the one hand, when it predicts its Joe's sessions then it is rarely wrong. On the other hand, it has an average performance when it comes to false negatives, which means that sometimes it does not detect Joe's sessions.\n",
    "\n",
    "The class of the final classifier is the Random Forest, an ensemble learning method that operate by constructing a multitude of decision trees at training time and outputting the class that is the mode of the classes (classification) of the individual trees. It is less prone to overfitting while often presenting a better accuracy."
   ]
  },
  {
   "cell_type": "markdown",
   "metadata": {},
   "source": [
    "Let's take a look at a sample of wrong prediction from the test dataset."
   ]
  },
  {
   "cell_type": "code",
   "execution_count": 73,
   "metadata": {},
   "outputs": [],
   "source": [
    "l = (np.array(y_pred) != np.array(y_test))\n",
    "i_wrong = (i for i,v in enumerate(l) if v)"
   ]
  },
  {
   "cell_type": "code",
   "execution_count": 74,
   "metadata": {},
   "outputs": [
    {
     "name": "stdout",
     "output_type": "stream",
     "text": [
      "index: 70 , y_pred: 1 , y_test: 0\n"
     ]
    },
    {
     "data": {
      "text/plain": [
       "browser                                               Firefox\n",
       "os                                                 Windows 10\n",
       "locale                                                  ru_RU\n",
       "user_id                                                     0\n",
       "gender                                                      m\n",
       "location                                       Canada/Toronto\n",
       "sites       [{'site': 'mail.google.com', 'length': 93}, {'...\n",
       "time                                                 02:04:00\n",
       "date                                      2017-07-07 00:00:00\n",
       "joe                                                      True\n",
       "Name: 40691, dtype: object"
      ]
     },
     "execution_count": 74,
     "metadata": {},
     "output_type": "execute_result"
    }
   ],
   "source": [
    "i = next(i_wrong)\n",
    "print('index:', i, ', y_pred:',  y_pred[i], ', y_test:', y_test[i])\n",
    "df_later.iloc[i]"
   ]
  },
  {
   "cell_type": "markdown",
   "metadata": {},
   "source": [
    "All the categorical features seems like it's Joe. Asa  consequence, let's check the websites of this session."
   ]
  },
  {
   "cell_type": "code",
   "execution_count": 75,
   "metadata": {},
   "outputs": [
    {
     "data": {
      "text/plain": [
       "[{'site': 'mail.google.com', 'length': 93},\n",
       " {'site': 'vk.com', 'length': 87},\n",
       " {'site': 'toptal.com', 'length': 258},\n",
       " {'site': 'lenta.ru', 'length': 242},\n",
       " {'site': 'slack.com', 'length': 92},\n",
       " {'site': 'zara-static.cn', 'length': 47}]"
      ]
     },
     "execution_count": 75,
     "metadata": {},
     "output_type": "execute_result"
    }
   ],
   "source": [
    "df_later['sites'].iloc[i]"
   ]
  },
  {
   "cell_type": "code",
   "execution_count": 122,
   "metadata": {},
   "outputs": [
    {
     "data": {
      "image/png": "[encoded data removed]",
      "text/plain": [
       "<Figure size 432x576 with 6 Axes>"
      ]
     },
     "metadata": {},
     "output_type": "display_data"
    }
   ],
   "source": [
    "sites_this = list({site.get('site') for site in df_later['sites'].iloc[i]})\n",
    "df_sites_joe_length_profile = extract_lengths(df[df['joe']], sites_this)\n",
    "_ = df_sites_joe_length_profile.hist(figsize=(6, 8))\n",
    "plt.gcf().patch.set_facecolor('white')"
   ]
  },
  {
   "cell_type": "markdown",
   "metadata": {},
   "source": [
    "The plot above shows that the site `zara-static.cn` was not in Joe's history so the classifier mistakenly decided to not throw a positive detection. \n",
    "\n",
    "This shows that it is utterly important to retrain the predictive model whenever Joe changes his session pattern. Otherwise the performance will dive. For instance, if Joe starts a new session with another language other than Russian, this will cause the classifier to miss him since it is an unprecedented behavior that was obviously not considered during the training above. This is a common limitation across all predictive models, since all future inferences are assumed to be a good extrapolation of past learned patterns."
   ]
  },
  {
   "cell_type": "markdown",
   "metadata": {},
   "source": [
    "One could argue that we should then drop the sites from the list of features. However, this would bring the F1-score down to really low values since we would also lose the information regarding the Joe's behavior.\n",
    "\n",
    "To make this point clearer, the plot below shows which features are the most relevant for the classifier."
   ]
  },
  {
   "cell_type": "code",
   "execution_count": 80,
   "metadata": {},
   "outputs": [
    {
     "data": {
      "image/png": "[encoded data removed]",
      "text/plain": [
       "<Figure size 288x720 with 1 Axes>"
      ]
     },
     "metadata": {
      "needs_background": "light"
     },
     "output_type": "display_data"
    }
   ],
   "source": [
    "forest = best_model\n",
    "plot_limit = 29\n",
    "\n",
    "importances = forest.feature_importances_\n",
    "std = np.std([tree.feature_importances_ for tree in forest.estimators_],\n",
    "             axis=0)\n",
    "indices = np.argsort(importances)[:plot_limit]\n",
    "\n",
    "# Plot the impurity-based feature importances of the forest\n",
    "plt.figure(figsize=(4, 10))\n",
    "plt.title(\"Feature importances\")\n",
    "plt.barh(range(len(indices)), importances[indices])\n",
    "plt.yticks(range(len(indices)), [df_train.columns[i] for i in indices])\n",
    "plt.show()"
   ]
  },
  {
   "cell_type": "markdown",
   "metadata": {},
   "source": [
    "The list above shows that the length of session in each site is among the most important features. The other categorical features explored earlier are important for ruling out the majority of the dataset (the sessions that are obviously not Joe, ie: English language) and increase accuracy, but they are not very helpful to increase te F1-score (reliably detecting Joe)."
   ]
  },
  {
   "cell_type": "markdown",
   "metadata": {},
   "source": [
    "Further optimization of Random Forest hyper-parameters using GridSearchCV was executed as shown below. However, it did not improve the F1-score. This means that the `best_model` above is the chosen one as the definitive."
   ]
  },
  {
   "cell_type": "code",
   "execution_count": 146,
   "metadata": {},
   "outputs": [],
   "source": [
    "# from sklearn.metrics import make_scorer\n",
    "# from sklearn.model_selection import GridSearchCV\n",
    "\n",
    "\n",
    "# parameters = {\n",
    "#     'n_estimators': [20, 40, 100, 200, 400, 1000],\n",
    "#     'max_features': ['sqrt', 'log2'],\n",
    "#     'criterion': ['gini', 'entropy'],\n",
    "# }\n",
    "\n",
    "\n",
    "# base_model = RandomForestClassifier()\n",
    "# final_model = GridSearchCV(base_model, parameters, scoring=make_scorer(score_function),\n",
    "#                            verbose=2, n_jobs=-1)\n",
    "# final_model.fit(X_train, y_train)\n",
    "\n",
    "# print('\\nFinal model:', type(final_model).__name__)\n",
    "\n",
    "# print('\\nPerformance on train dataset:')\n",
    "# y_pred = final_model.predict(X_train)\n",
    "# print_scores(y_train, y_pred)\n",
    "\n",
    "# print('\\nPerformance on test dataset:')\n",
    "# y_pred = final_model.predict(X_test)\n",
    "# print_scores(y_test, y_pred)"
   ]
  },
  {
   "cell_type": "markdown",
   "metadata": {},
   "source": [
    "<p>&nbsp;</p>\n",
    "\n",
    "# &#x1f4be; 4 Save"
   ]
  },
  {
   "cell_type": "markdown",
   "metadata": {},
   "source": [
    "## 4.1 Export the model parameters"
   ]
  },
  {
   "cell_type": "markdown",
   "metadata": {},
   "source": [
    "It is time to store the model parameters necesary to run a standalone script defined in the `catch_joe` module."
   ]
  },
  {
   "cell_type": "code",
   "execution_count": 207,
   "metadata": {
    "scrolled": true
   },
   "outputs": [],
   "source": [
    "catch_joe_model_parameters = {\n",
    "    'model': best_model,\n",
    "    'encoder': le,\n",
    "    'joe_all_sites': sites_joe_list,\n",
    "    'joe_top_sites': joe_top_sites,\n",
    "    'joe_all_hosts': None,\n",
    "    'features': features,\n",
    "    'features_categorical': features_categorical,\n",
    "}\n",
    "\n",
    "with open('./model/catch_joe.pickle', 'wb') as f:\n",
    "    pickle.dump(catch_joe_model_parameters, f)"
   ]
  },
  {
   "cell_type": "markdown",
   "metadata": {},
   "source": [
    "## 4.2 Run on Verify dataset"
   ]
  },
  {
   "cell_type": "markdown",
   "metadata": {},
   "source": [
    "Let's use the latest model saved above to run a standalone script."
   ]
  },
  {
   "cell_type": "code",
   "execution_count": 208,
   "metadata": {},
   "outputs": [],
   "source": [
    "!python catch_joe.py -j ./data/verify.json"
   ]
  },
  {
   "cell_type": "code",
   "execution_count": 221,
   "metadata": {},
   "outputs": [
    {
     "name": "stdout",
     "output_type": "stream",
     "text": [
      "Counter({1: 21170, 0: 1530})\n",
      "6.74% of the predictions are detected as Joe's accesses.\n"
     ]
    }
   ],
   "source": [
    "with open('catch_joe_output.txt', 'r') as file:\n",
    "    y_pred = file.read().splitlines()\n",
    "    \n",
    "    \n",
    "y_pred = [int(y) for y in y_pred]\n",
    "    \n",
    "# alternatively, let's run it from the Jupyter Notebook\n",
    "# so we get y_pred to print some results below\n",
    "# y_pred = catch_joe.main(file_json = './data/verify.json')\n",
    "\n",
    "count = Counter(y_pred)\n",
    "print(count)\n",
    "percentage = count[0] / (count[1] + count[0])\n",
    "print('{0:.2%} of the predictions are detected as Joe\\'s accesses.'.format(percentage))"
   ]
  },
  {
   "cell_type": "markdown",
   "metadata": {},
   "source": [
    "We do not have the correct answers (`user_id`) in the `verify.json` file to assess the classifier's performance. However, just for the sake of curiosity, we can observe from the results above that our predictive model predicts Joe's sessions as the minority of the times. Such figure is expected for a real dataset that is expected to contain hundreds of users.\n",
    "\n",
    "There is a difference in Joe's presence in the verify dataset compared to both the train and test. This might be an indication that the classifier is making some of mistakes because of an unexpected change of Joe's behavior (problem explained in the subsection). If that is the case then it would demand a further training with the new data to fix this."
   ]
  },
  {
   "cell_type": "markdown",
   "metadata": {},
   "source": [
    "\n",
    "## 4.3 Export to Python code"
   ]
  },
  {
   "cell_type": "markdown",
   "metadata": {},
   "source": [
    "The following code serves to convert the present Jupyter Notebook into Python code. This exported `.py` code is aimed to facilitate version control and tracking of \"Python only\" changes since it does not contain HTML nor JSON codes that are typically present in the `.ipynb` files."
   ]
  },
  {
   "cell_type": "code",
   "execution_count": 312,
   "metadata": {},
   "outputs": [
    {
     "name": "stderr",
     "output_type": "stream",
     "text": [
      "[NbConvertApp] Converting notebook catch_joe_project.ipynb to script\n",
      "[NbConvertApp] Writing 27894 bytes to catch_joe_project.py\n"
     ]
    }
   ],
   "source": [
    "# convert Notebook to Python for better version control\n",
    "! jupyter nbconvert --to script \"catch_joe_project.ipynb\""
   ]
  }
 ],
 "metadata": {
  "kernelspec": {
   "display_name": "Python 3",
   "language": "python",
   "name": "python3"
  },
  "language_info": {
   "codemirror_mode": {
    "name": "ipython",
    "version": 3
   },
   "file_extension": ".py",
   "mimetype": "text/x-python",
   "name": "python",
   "nbconvert_exporter": "python",
   "pygments_lexer": "ipython3",
   "version": "3.7.6"
  }
 },
 "nbformat": 4,
 "nbformat_minor": 4
}
