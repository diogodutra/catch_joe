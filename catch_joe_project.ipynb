{
 "cells": [
  {
   "cell_type": "markdown",
   "metadata": {},
   "source": [
    "# TODO:\n",
    "- [ ] Create classifier\n",
    "    - [x] Add top sites as feature\n",
    "    - [x] Split dataset in chronological order\n",
    "    - [ ] Replace LabelEncode by OneHotEncode\n",
    "    - [x] Scale numeric features\n",
    "    - [x] Change metric\n",
    "    - [x] Add GridSearchCV\n",
    "    - [x] Correct time by local Timezone\n",
    "    - [ ] 2-steps classifiers (categorical, numerical)\n",
    "    - [ ] Handle unseen labels\n",
    "- [x] Create standalone script\n",
    "    - [x] Module: add parser\n",
    "- [ ] Comment Project\n",
    "    - [x] Notebook: unbalanced data and choice for F1-score\n",
    "    - [ ] Notebook: add hyperlink on Summary\n",
    "    - [ ] Notebook: importance of retraining when confirmed a new unusual activity (ie: new location)\n",
    "    - [ ] Notebook: review all comments\n",
    "    - [ ] Notebook: remove TODO list\n",
    "    - [ ] Notebook: clean code\n",
    "    - [ ] Readme: create\n",
    "    - [x] Module: add DocString"
   ]
  },
  {
   "cell_type": "markdown",
   "metadata": {},
   "source": [
    "The present Jupyter Notebook explains the process of creating a predictive model to classify an user access as **Joe** or **not-Joe** using this [dataset](https://drive.google.com/file/d/1nATkzOZUe6w5IWcFNE3AakzBl-6P-5Hw/view?usp=sharing).\n",
    "\n",
    "The sections are numbered as follows:\n",
    "\n",
    "1. Load dataset\n",
    "1. Data Exploration\n",
    "    - Location\n",
    "    - Gender\n",
    "    - Language\n",
    "    - Operating System\n",
    "    - Browser\n",
    "    - Time of the day\n",
    "    - Day of the week\n",
    "    - Day of the month\n",
    "    - Month of the year\n",
    "    - Duration\n",
    "1. Predictive Model\n",
    "    - Naïve Analysis\n",
    "    - Decision Tree\n",
    "1. Save\n",
    "    - Export the Model\n",
    "    - Run the Verify dataset\n",
    "    - Export this Notebook"
   ]
  },
  {
   "cell_type": "code",
   "execution_count": 1,
   "metadata": {},
   "outputs": [],
   "source": [
    "import catch_joe\n",
    "from catch_joe import \\\n",
    "        extract_duration, extract_hour_local, extract_lengths, extract_sites_ratio, \\\n",
    "        categorize, encode_features, encode_joe, transform_features, print_scores"
   ]
  },
  {
   "cell_type": "code",
   "execution_count": 2,
   "metadata": {},
   "outputs": [],
   "source": [
    "# import os\n",
    "# from dtreeviz.trees import dtreeviz\n",
    "# os.environ[\"PATH\"] += os.pathsep + 'C:/Users/Diogo/anaconda3/Library/bin/graphviz'\n",
    "\n",
    "from collections import Counter\n",
    "import pickle\n",
    "import pandas as pd\n",
    "import numpy as np\n",
    "\n",
    "from sklearn.model_selection import train_test_split\n",
    "from sklearn.preprocessing import LabelEncoder\n",
    "from sklearn.tree import DecisionTreeClassifier\n",
    "from sklearn.ensemble import AdaBoostClassifier, BaggingClassifier, RandomForestClassifier, GradientBoostingClassifier\n",
    "from sklearn.neighbors import KNeighborsClassifier\n",
    "from sklearn.metrics import accuracy_score, precision_score, recall_score, f1_score, make_scorer\n",
    "\n",
    "import seaborn as sns\n",
    "import matplotlib.pyplot as plt"
   ]
  },
  {
   "cell_type": "code",
   "execution_count": 3,
   "metadata": {},
   "outputs": [],
   "source": [
    "from sklearn.neural_network import MLPClassifier\n",
    "from sklearn.neighbors import KNeighborsClassifier\n",
    "from sklearn.svm import SVC\n",
    "from sklearn.gaussian_process import GaussianProcessClassifier\n",
    "from sklearn.gaussian_process.kernels import RBF\n",
    "from sklearn.tree import DecisionTreeClassifier\n",
    "from sklearn.ensemble import RandomForestClassifier, AdaBoostClassifier\n",
    "from sklearn.naive_bayes import GaussianNB\n",
    "from sklearn.discriminant_analysis import QuadraticDiscriminantAnalysis"
   ]
  },
  {
   "cell_type": "markdown",
   "metadata": {},
   "source": [
    "# 1 Load dataset"
   ]
  },
  {
   "cell_type": "code",
   "execution_count": 4,
   "metadata": {},
   "outputs": [
    {
     "name": "stdout",
     "output_type": "stream",
     "text": [
      "(80000, 10)\n"
     ]
    },
    {
     "data": {
      "text/html": [
       "<div>\n",
       "<style scoped>\n",
       "    .dataframe tbody tr th:only-of-type {\n",
       "        vertical-align: middle;\n",
       "    }\n",
       "\n",
       "    .dataframe tbody tr th {\n",
       "        vertical-align: top;\n",
       "    }\n",
       "\n",
       "    .dataframe thead th {\n",
       "        text-align: right;\n",
       "    }\n",
       "</style>\n",
       "<table border=\"1\" class=\"dataframe\">\n",
       "  <thead>\n",
       "    <tr style=\"text-align: right;\">\n",
       "      <th></th>\n",
       "      <th>browser</th>\n",
       "      <th>os</th>\n",
       "      <th>locale</th>\n",
       "      <th>user_id</th>\n",
       "      <th>gender</th>\n",
       "      <th>location</th>\n",
       "      <th>sites</th>\n",
       "      <th>time</th>\n",
       "      <th>date</th>\n",
       "      <th>joe</th>\n",
       "    </tr>\n",
       "  </thead>\n",
       "  <tbody>\n",
       "    <tr>\n",
       "      <th>0</th>\n",
       "      <td>Firefox</td>\n",
       "      <td>Ubuntu</td>\n",
       "      <td>ru_RU</td>\n",
       "      <td>105</td>\n",
       "      <td>m</td>\n",
       "      <td>USA/Chicago</td>\n",
       "      <td>[{'site': 'mail.google.com', 'length': 50}, {'...</td>\n",
       "      <td>09:03:00</td>\n",
       "      <td>2017-01-08</td>\n",
       "      <td>False</td>\n",
       "    </tr>\n",
       "    <tr>\n",
       "      <th>1</th>\n",
       "      <td>Firefox</td>\n",
       "      <td>Windows 8</td>\n",
       "      <td>pl-PL</td>\n",
       "      <td>11</td>\n",
       "      <td>m</td>\n",
       "      <td>USA/Chicago</td>\n",
       "      <td>[{'site': 'meduza.org', 'length': 40}, {'site'...</td>\n",
       "      <td>13:57:00</td>\n",
       "      <td>2016-10-05</td>\n",
       "      <td>False</td>\n",
       "    </tr>\n",
       "    <tr>\n",
       "      <th>2</th>\n",
       "      <td>Chrome</td>\n",
       "      <td>Ubuntu</td>\n",
       "      <td>zh-CN</td>\n",
       "      <td>17</td>\n",
       "      <td>m</td>\n",
       "      <td>Singapore/Singapore</td>\n",
       "      <td>[{'site': 'facebook.net', 'length': 74}, {'sit...</td>\n",
       "      <td>02:06:00</td>\n",
       "      <td>2017-03-28</td>\n",
       "      <td>False</td>\n",
       "    </tr>\n",
       "    <tr>\n",
       "      <th>3</th>\n",
       "      <td>Chrome</td>\n",
       "      <td>Windows 10</td>\n",
       "      <td>pt-BR</td>\n",
       "      <td>134</td>\n",
       "      <td>f</td>\n",
       "      <td>Australia/Sydney</td>\n",
       "      <td>[{'site': 'verisign.com', 'length': 111}, {'si...</td>\n",
       "      <td>21:49:00</td>\n",
       "      <td>2017-06-25</td>\n",
       "      <td>False</td>\n",
       "    </tr>\n",
       "    <tr>\n",
       "      <th>4</th>\n",
       "      <td>Firefox</td>\n",
       "      <td>Windows 10</td>\n",
       "      <td>en-SG</td>\n",
       "      <td>92</td>\n",
       "      <td>f</td>\n",
       "      <td>USA/Chicago</td>\n",
       "      <td>[{'site': 'live.com', 'length': 79}, {'site': ...</td>\n",
       "      <td>00:05:00</td>\n",
       "      <td>2016-02-10</td>\n",
       "      <td>False</td>\n",
       "    </tr>\n",
       "  </tbody>\n",
       "</table>\n",
       "</div>"
      ],
      "text/plain": [
       "   browser          os locale  user_id gender             location  \\\n",
       "0  Firefox      Ubuntu  ru_RU      105      m          USA/Chicago   \n",
       "1  Firefox   Windows 8  pl-PL       11      m          USA/Chicago   \n",
       "2   Chrome      Ubuntu  zh-CN       17      m  Singapore/Singapore   \n",
       "3   Chrome  Windows 10  pt-BR      134      f     Australia/Sydney   \n",
       "4  Firefox  Windows 10  en-SG       92      f          USA/Chicago   \n",
       "\n",
       "                                               sites      time       date  \\\n",
       "0  [{'site': 'mail.google.com', 'length': 50}, {'...  09:03:00 2017-01-08   \n",
       "1  [{'site': 'meduza.org', 'length': 40}, {'site'...  13:57:00 2016-10-05   \n",
       "2  [{'site': 'facebook.net', 'length': 74}, {'sit...  02:06:00 2017-03-28   \n",
       "3  [{'site': 'verisign.com', 'length': 111}, {'si...  21:49:00 2017-06-25   \n",
       "4  [{'site': 'live.com', 'length': 79}, {'site': ...  00:05:00 2016-02-10   \n",
       "\n",
       "     joe  \n",
       "0  False  \n",
       "1  False  \n",
       "2  False  \n",
       "3  False  \n",
       "4  False  "
      ]
     },
     "execution_count": 4,
     "metadata": {},
     "output_type": "execute_result"
    }
   ],
   "source": [
    "file = './data/dataset.json'\n",
    "\n",
    "df = pd.read_json(file)\n",
    "\n",
    "# create target label as a separate column\n",
    "user_id_joe = 0\n",
    "df['joe'] = df['user_id'] == user_id_joe\n",
    "\n",
    "print(df.shape)\n",
    "df.head()"
   ]
  },
  {
   "cell_type": "code",
   "execution_count": 5,
   "metadata": {},
   "outputs": [
    {
     "data": {
      "text/plain": [
       "(72000, 10)"
      ]
     },
     "execution_count": 5,
     "metadata": {},
     "output_type": "execute_result"
    }
   ],
   "source": [
    "# split dataset into train and test\n",
    "# in chronological order (not random)\n",
    "\n",
    "test_ratio = 0.1\n",
    "df_later = df.sort_values(by='date').tail(int(test_ratio * df.shape[0]))\n",
    "\n",
    "df = df.drop(df_later.index) # train dataset\n",
    "\n",
    "df.shape"
   ]
  },
  {
   "cell_type": "markdown",
   "metadata": {},
   "source": [
    "# 2 Data Exploration"
   ]
  },
  {
   "cell_type": "markdown",
   "metadata": {},
   "source": [
    "## 2.1 Gender"
   ]
  },
  {
   "cell_type": "markdown",
   "metadata": {},
   "source": [
    "The first feature to be explored is `gender`. Let's explore the hypothesis that Joe never changed their gender."
   ]
  },
  {
   "cell_type": "code",
   "execution_count": 6,
   "metadata": {},
   "outputs": [
    {
     "data": {
      "image/png": "[encoded data removed]",
      "text/plain": [
       "<Figure size 405.625x360 with 1 Axes>"
      ]
     },
     "metadata": {
      "needs_background": "light"
     },
     "output_type": "display_data"
    }
   ],
   "source": [
    "_ = sns.catplot(x='joe', hue='gender', kind='count', data=df)"
   ]
  },
  {
   "cell_type": "markdown",
   "metadata": {},
   "source": [
    "It seems that Joe is a male, since there is no log on his name as female. This insight is useful to discard around 40% of the dataset."
   ]
  },
  {
   "cell_type": "markdown",
   "metadata": {},
   "source": [
    "## 2.2 Location"
   ]
  },
  {
   "cell_type": "markdown",
   "metadata": {},
   "source": [
    "Let's now explore `location`. Unless Joe works in a cruising ship, probably he has limited variation of location around the globe so let's explore this hypothesis."
   ]
  },
  {
   "cell_type": "code",
   "execution_count": 7,
   "metadata": {},
   "outputs": [
    {
     "data": {
      "image/png": "[encoded data removed]",
      "text/plain": [
       "<Figure size 518.5x360 with 1 Axes>"
      ]
     },
     "metadata": {
      "needs_background": "light"
     },
     "output_type": "display_data"
    }
   ],
   "source": [
    "_ = sns.catplot(x='joe', hue='location', kind='count', data=df)"
   ]
  },
  {
   "cell_type": "code",
   "execution_count": 8,
   "metadata": {},
   "outputs": [
    {
     "data": {
      "text/plain": [
       "Counter({'France/Paris': 164, 'USA/Chicago': 160, 'Canada/Toronto': 35})"
      ]
     },
     "execution_count": 8,
     "metadata": {},
     "output_type": "execute_result"
    }
   ],
   "source": [
    "Counter(df[df['joe']]['location'])"
   ]
  },
  {
   "cell_type": "markdown",
   "metadata": {},
   "source": [
    "Joe has access logs from Paris, Chicago and Toronto only. This is helpful to discard the other 18 locations."
   ]
  },
  {
   "cell_type": "markdown",
   "metadata": {},
   "source": [
    "## 2.3 Language"
   ]
  },
  {
   "cell_type": "markdown",
   "metadata": {},
   "source": [
    "Let's now explore `locale`. It is rare to find an active polyglot so let's explore this hypothesis."
   ]
  },
  {
   "cell_type": "code",
   "execution_count": 9,
   "metadata": {},
   "outputs": [
    {
     "data": {
      "image/png": "[encoded data removed]",
      "text/plain": [
       "<Figure size 427.5x360 with 1 Axes>"
      ]
     },
     "metadata": {
      "needs_background": "light"
     },
     "output_type": "display_data"
    }
   ],
   "source": [
    "_ = sns.catplot(x='joe', hue='locale', kind='count', data=df)"
   ]
  },
  {
   "cell_type": "code",
   "execution_count": 10,
   "metadata": {},
   "outputs": [
    {
     "data": {
      "text/plain": [
       "Counter({'ru_RU': 359})"
      ]
     },
     "execution_count": 10,
     "metadata": {},
     "output_type": "execute_result"
    }
   ],
   "source": [
    "Counter(df[df['joe']]['locale'])"
   ]
  },
  {
   "cell_type": "markdown",
   "metadata": {},
   "source": [
    "Despite the fact that Joe has many access from France, USA and Canada, his sessions are always in Russian language. Again, this eliminates all the other languages."
   ]
  },
  {
   "cell_type": "markdown",
   "metadata": {},
   "source": [
    "## 2.4 Operating System"
   ]
  },
  {
   "cell_type": "markdown",
   "metadata": {},
   "source": [
    "If Joe is not a geek than he is probably using only one or two different `os`."
   ]
  },
  {
   "cell_type": "code",
   "execution_count": 11,
   "metadata": {},
   "outputs": [
    {
     "data": {
      "image/png": "[encoded data removed]",
      "text/plain": [
       "<Figure size 456.625x360 with 1 Axes>"
      ]
     },
     "metadata": {
      "needs_background": "light"
     },
     "output_type": "display_data"
    }
   ],
   "source": [
    "_ = sns.catplot(x='joe', hue='os', kind='count', data=df)"
   ]
  },
  {
   "cell_type": "markdown",
   "metadata": {},
   "source": [
    "Indeed, Joe uses only Ubuntu and Windows 10. This rules out MacOS, Debian and the rest of the Microsoft's OS."
   ]
  },
  {
   "cell_type": "markdown",
   "metadata": {},
   "source": [
    "## 2.5 Browser"
   ]
  },
  {
   "cell_type": "markdown",
   "metadata": {},
   "source": [
    "For the same reason explained before for the OS, Joe is probably using only a couple of `browsers`."
   ]
  },
  {
   "cell_type": "code",
   "execution_count": 12,
   "metadata": {},
   "outputs": [
    {
     "data": {
      "image/png": "[encoded data removed]",
      "text/plain": [
       "<Figure size 480.5x360 with 1 Axes>"
      ]
     },
     "metadata": {
      "needs_background": "light"
     },
     "output_type": "display_data"
    }
   ],
   "source": [
    "_ = sns.catplot(x='joe', hue='browser', kind='count', data=df)"
   ]
  },
  {
   "cell_type": "markdown",
   "metadata": {},
   "source": [
    "Again, Joe uses only Firefox and Chrome, ruling out Internet Explorer and Safari."
   ]
  },
  {
   "cell_type": "markdown",
   "metadata": {},
   "source": [
    "## 2.6 Time of the day"
   ]
  },
  {
   "cell_type": "markdown",
   "metadata": {},
   "source": [
    "Let's now verify the hypothesis that Joe accesses internet only in some specific hours of the day. Mind that there is a conversion from GMT to local timezone."
   ]
  },
  {
   "cell_type": "code",
   "execution_count": 13,
   "metadata": {},
   "outputs": [
    {
     "data": {
      "image/png": "[encoded data removed]",
      "text/plain": [
       "<Figure size 432x288 with 1 Axes>"
      ]
     },
     "metadata": {
      "needs_background": "light"
     },
     "output_type": "display_data"
    }
   ],
   "source": [
    "df['hour'] = extract_hour_local(df)\n",
    "\n",
    "# plot\n",
    "sns.distplot(df['hour'],            norm_hist=True, kde=False, rug=False, bins=24)\n",
    "sns.distplot(df[df['joe']]['hour'], norm_hist=True, kde=False, rug=False, bins=24)\n",
    "plt.legend(['all', 'joe'])\n",
    "plt.title('Histogram of accesses per hour of the day')\n",
    "_ = plt.ylabel('density of occurrencies')"
   ]
  },
  {
   "cell_type": "markdown",
   "metadata": {},
   "source": [
    "Joe accesses internet only during lunch or dinner. Therefore, this is yet another relevant information to be used by our classifier."
   ]
  },
  {
   "cell_type": "markdown",
   "metadata": {},
   "source": [
    "## 2.7 Day of the week"
   ]
  },
  {
   "cell_type": "markdown",
   "metadata": {},
   "source": [
    "Following the rationale from the previous subsection, let's verify the hypothesis that Joe accesses internet only in some specific days of the week."
   ]
  },
  {
   "cell_type": "code",
   "execution_count": 14,
   "metadata": {},
   "outputs": [
    {
     "data": {
      "image/png": "[encoded data removed]",
      "text/plain": [
       "<Figure size 454.5x360 with 1 Axes>"
      ]
     },
     "metadata": {
      "needs_background": "light"
     },
     "output_type": "display_data"
    }
   ],
   "source": [
    "df['weekday'] = [date.day_name() for date in df['date']]\n",
    "\n",
    "_ = sns.catplot(x='joe', hue='weekday', kind='count', data=df)"
   ]
  },
  {
   "cell_type": "code",
   "execution_count": 15,
   "metadata": {},
   "outputs": [
    {
     "data": {
      "text/plain": [
       "Counter({'Saturday': 53,\n",
       "         'Tuesday': 52,\n",
       "         'Sunday': 53,\n",
       "         'Friday': 54,\n",
       "         'Wednesday': 49,\n",
       "         'Monday': 46,\n",
       "         'Thursday': 52})"
      ]
     },
     "execution_count": 15,
     "metadata": {},
     "output_type": "execute_result"
    }
   ],
   "source": [
    "Counter(df[df['joe']]['weekday'])"
   ]
  },
  {
   "cell_type": "markdown",
   "metadata": {},
   "source": [
    "There is no particular day of the week that shows an unusual history of access from Joe, so let's drop this feature."
   ]
  },
  {
   "cell_type": "markdown",
   "metadata": {},
   "source": [
    "## 2.8 Day of the month"
   ]
  },
  {
   "cell_type": "markdown",
   "metadata": {},
   "source": [
    "Let's verify if Joe has different frequency of accesses along the days of the month."
   ]
  },
  {
   "cell_type": "code",
   "execution_count": 16,
   "metadata": {},
   "outputs": [
    {
     "data": {
      "image/png": "[encoded data removed]",
      "text/plain": [
       "<Figure size 418.625x360 with 1 Axes>"
      ]
     },
     "metadata": {
      "needs_background": "light"
     },
     "output_type": "display_data"
    }
   ],
   "source": [
    "df['monthday'] = [date.day for date in df['date']]\n",
    "\n",
    "_ = sns.catplot(x='joe', hue='monthday', kind='count', data=df)"
   ]
  },
  {
   "cell_type": "markdown",
   "metadata": {},
   "source": [
    "There is no unusual pattern to be extracted out of the day of the month."
   ]
  },
  {
   "cell_type": "markdown",
   "metadata": {},
   "source": [
    "## 2.9 Month of the year"
   ]
  },
  {
   "cell_type": "markdown",
   "metadata": {},
   "source": [
    "Now let's check if there is any useful pattern along the months of the year."
   ]
  },
  {
   "cell_type": "code",
   "execution_count": 17,
   "metadata": {},
   "outputs": [
    {
     "data": {
      "image/png": "[encoded data removed]",
      "text/plain": [
       "<Figure size 408.75x360 with 1 Axes>"
      ]
     },
     "metadata": {
      "needs_background": "light"
     },
     "output_type": "display_data"
    }
   ],
   "source": [
    "df['month'] = [date.month for date in df['date']]\n",
    "\n",
    "_ = sns.catplot(x='joe', hue='month', kind='count', data=df)"
   ]
  },
  {
   "cell_type": "markdown",
   "metadata": {},
   "source": [
    "Again, nothing useful from the month of the year."
   ]
  },
  {
   "cell_type": "markdown",
   "metadata": {},
   "source": [
    "## 2.10 Duration"
   ]
  },
  {
   "cell_type": "code",
   "execution_count": 18,
   "metadata": {},
   "outputs": [
    {
     "data": {
      "image/png": "[encoded data removed]",
      "text/plain": [
       "<Figure size 432x288 with 1 Axes>"
      ]
     },
     "metadata": {
      "needs_background": "light"
     },
     "output_type": "display_data"
    }
   ],
   "source": [
    "df['duration'] = extract_duration(df)\n",
    "\n",
    "sns.distplot(df           ['duration'])\n",
    "sns.distplot(df[df['joe']]['duration'])\n",
    "_ = plt.legend(['all', 'Joe'])"
   ]
  },
  {
   "cell_type": "markdown",
   "metadata": {},
   "source": [
    "Joe's duration of access is fit within the statistical boundaries of the population, which means that there is nothing unusual. Nonetheless, let's keep this feature since it is slightly off the population statistics so it might have some useful correlation with other features."
   ]
  },
  {
   "cell_type": "code",
   "execution_count": 19,
   "metadata": {},
   "outputs": [
    {
     "name": "stdout",
     "output_type": "stream",
     "text": [
      "1079 sites accessed by Joe.\n"
     ]
    }
   ],
   "source": [
    "sites_joe = {site.get('site') for sites in df[df['joe']]['sites'] for site in sites}\n",
    "print(len(sites_joe), 'sites accessed by Joe.')"
   ]
  },
  {
   "cell_type": "code",
   "execution_count": 20,
   "metadata": {},
   "outputs": [
    {
     "data": {
      "text/plain": [
       "lenta.ru            126.693593\n",
       "slack.com           120.256267\n",
       "mail.google.com     119.462396\n",
       "toptal.com          119.144847\n",
       "vk.com              113.791086\n",
       "                       ...    \n",
       "ifsttar.fr            0.111421\n",
       "investir.fr           0.111421\n",
       "smartsheet.com        0.111421\n",
       "jeuxcollector.fr      0.111421\n",
       "gensyde.com           0.111421\n",
       "Length: 1079, dtype: float64"
      ]
     },
     "execution_count": 20,
     "metadata": {},
     "output_type": "execute_result"
    }
   ],
   "source": [
    "sites_joe_list = list(sites_joe)    \n",
    "df_sites_joe_length = extract_lengths(df[df['joe']], sites_joe_list)\n",
    "df_sites_joe_length = df_sites_joe_length.mean().sort_values(ascending=False)\n",
    "df_sites_joe_length"
   ]
  },
  {
   "cell_type": "code",
   "execution_count": 21,
   "metadata": {},
   "outputs": [
    {
     "data": {
      "text/plain": [
       "youtube.com             39.097875\n",
       "toptal.com              31.048542\n",
       "slack.com               30.621389\n",
       "vk.com                  26.454833\n",
       "lenta.ru                25.212111\n",
       "                          ...    \n",
       "cnrm-game.fr             0.016111\n",
       "as.com                   0.015694\n",
       "courtine.org             0.015375\n",
       "adgrx.com                0.014389\n",
       "foret-broceliande.fr     0.014375\n",
       "Length: 1079, dtype: float64"
      ]
     },
     "execution_count": 21,
     "metadata": {},
     "output_type": "execute_result"
    }
   ],
   "source": [
    "df_sites_all_length = extract_lengths(df, sites_joe_list)\n",
    "df_sites_all_length.mean().sort_values(ascending=False)"
   ]
  },
  {
   "cell_type": "markdown",
   "metadata": {},
   "source": [
    "The most accessed sites by Joe have links and lengths different than the population. So, this information is useful as well.\n",
    "\n",
    "However, let's extract as features only the top acccessed sites in order to avoid overfitting and heavy computational cost."
   ]
  },
  {
   "cell_type": "code",
   "execution_count": 22,
   "metadata": {
    "scrolled": true
   },
   "outputs": [],
   "source": [
    "top_sites = 50\n",
    "joe_all_sites = list(df_sites_joe_length[:top_sites].index)\n",
    "joe_top_sites = joe_all_sites[:top_sites]"
   ]
  },
  {
   "cell_type": "markdown",
   "metadata": {},
   "source": [
    "# 3 Predictive Model"
   ]
  },
  {
   "cell_type": "markdown",
   "metadata": {},
   "source": [
    "## 3.1 Naïve Bayes Analysis"
   ]
  },
  {
   "cell_type": "markdown",
   "metadata": {},
   "source": [
    "The previously mentioned features are good enough to safely tell whenever is not Joe.\n",
    "\n",
    "What if they are good enough to usem them independently as filters to discard them all until we have only joe's access left?\n",
    "\n",
    "In orde to find this out, let's check how many logs match exactly the Joe's history for the categorical features. "
   ]
  },
  {
   "cell_type": "code",
   "execution_count": 23,
   "metadata": {},
   "outputs": [],
   "source": [
    "# define list of features to be used by the classifier\n",
    "\n",
    "features_categorical = ['gender', 'os', 'browser', 'location', 'locale', 'hour']\n",
    "\n",
    "features = features_categorical + ['duration'] + joe_top_sites"
   ]
  },
  {
   "cell_type": "code",
   "execution_count": 24,
   "metadata": {},
   "outputs": [
    {
     "name": "stdout",
     "output_type": "stream",
     "text": [
      "Original dataset contains 72000 logs.\n",
      "Like-Joe dataset contains 897 logs (1%).\n"
     ]
    }
   ],
   "source": [
    "df_like_joe = df.copy()\n",
    "\n",
    "filter_data = {feat: set(df[df['joe']][feat]) for feat in features_categorical}\n",
    "\n",
    "for feature, valid_entries in filter_data.items():\n",
    "    df_like_joe = df_like_joe[df_like_joe[feature].isin(valid_entries)]\n",
    "\n",
    "    \n",
    "# extract set of multiple website entries from Joe's logs\n",
    "sites_joe = {site.get('site') for sites in df_like_joe['sites'] for site in sites}\n",
    "df_like_joe = df_like_joe[list(map(lambda x:\n",
    "                any(site.get('site') in sites_joe for site in x), df_like_joe['sites']))]\n",
    "    \n",
    "    \n",
    "print('Original dataset contains', df.shape[0], 'logs.')\n",
    "print('Like-Joe dataset contains', df_like_joe.shape[0], 'logs',\n",
    "     \"({0:.0%}).\".format(df_like_joe.shape[0] / df.shape[0]))"
   ]
  },
  {
   "cell_type": "markdown",
   "metadata": {},
   "source": [
    "Filtering out those logs that do not match Joe's history is enough to discard a large piece of the dataset.\n",
    "\n",
    "But how many of the left logs are our Joe indeed?"
   ]
  },
  {
   "cell_type": "code",
   "execution_count": 25,
   "metadata": {},
   "outputs": [
    {
     "name": "stdout",
     "output_type": "stream",
     "text": [
      "Counter({False: 538, True: 359})\n",
      "False and True accesses ratio from Joe: 40.0%, 60.0%\n"
     ]
    }
   ],
   "source": [
    "count = Counter(df_like_joe['joe'])\n",
    "print(count)\n",
    "\n",
    "is_joe = np.asarray(list(count.values()))\n",
    "is_joe = list(is_joe / is_joe.sum())\n",
    "\n",
    "print('False and True accesses ratio from Joe:', ', '.join('{0:.1%}'.format(i) for i in is_joe))"
   ]
  },
  {
   "cell_type": "code",
   "execution_count": 26,
   "metadata": {},
   "outputs": [
    {
     "name": "stdout",
     "output_type": "stream",
     "text": [
      "5 total of user_id with same logs than Joe: 0 192 15 181 56\n"
     ]
    }
   ],
   "source": [
    "user_id_like_joe = set(df_like_joe['user_id'])\n",
    "print(len(user_id_like_joe), 'total of user_id with same logs than Joe:', *user_id_like_joe)"
   ]
  },
  {
   "cell_type": "markdown",
   "metadata": {},
   "source": [
    "Despite the fact that the filter previously mentioned has efficiently removed most of the dataset, there are yet some logs from a few people with enough occurencies to be a majority over Joe. This is yet something to be tackled, since we don't want these people being taken as Joe."
   ]
  },
  {
   "cell_type": "markdown",
   "metadata": {},
   "source": [
    "## 3.2 Decision Tree"
   ]
  },
  {
   "cell_type": "markdown",
   "metadata": {},
   "source": [
    "Maybe, the cross combination of restrictions across different features is enough to find Joe out of the other few people above. For instance, Joe might be the only one who uses Firefox (`browser`) on Windows 10 (`os`).\n",
    "\n",
    "Let's create a simple Decision Tree, train it on the single-entries categorical features and check it's performance to detect Joe."
   ]
  },
  {
   "cell_type": "code",
   "execution_count": 27,
   "metadata": {},
   "outputs": [],
   "source": [
    "df_train = df.copy()\n",
    "\n",
    "df_train, le = categorize(df_train, features_categorical)\n",
    "\n",
    "y_train = encode_joe(df_train['user_id'] == user_id_joe)\n",
    "df_train = transform_features(df_train, features, features_categorical, joe_top_sites, le)\n",
    "X_train = df_train[features].values"
   ]
  },
  {
   "cell_type": "markdown",
   "metadata": {},
   "source": [
    "Before creating our predictive model, let's calculate the Naïve performance. We know that the majority of the data is not from Joe so the Naïve classifier always assume that the result is 1 (not Joe)."
   ]
  },
  {
   "cell_type": "code",
   "execution_count": 28,
   "metadata": {},
   "outputs": [
    {
     "name": "stdout",
     "output_type": "stream",
     "text": [
      "Performance of Naïve on train dataset:\n",
      "99.5014% is the accuracy of the classifier.\n",
      "0.0000% is the F1-score of the classifier.\n",
      "0.00% of the Joe's accesses are detected.\n",
      "0.00% of the detections are truly from Joe.\n"
     ]
    },
    {
     "name": "stderr",
     "output_type": "stream",
     "text": [
      "C:\\Users\\Diogo\\anaconda3\\lib\\site-packages\\sklearn\\metrics\\_classification.py:1268: UndefinedMetricWarning: Recall is ill-defined and being set to 0.0 due to no true samples. Use `zero_division` parameter to control this behavior.\n",
      "  _warn_prf(average, modifier, msg_start, len(result))\n"
     ]
    }
   ],
   "source": [
    "y_pred = [1] * len(y_train)\n",
    "\n",
    "print('Performance of Naïve on train dataset:')\n",
    "print_scores(y_pred, y_train)"
   ]
  },
  {
   "cell_type": "markdown",
   "metadata": {},
   "source": [
    "As expected, the accuracy score is quite high because most of the data is not Joe (imbalanced). Moreover, precision and recall scores are obviously nulls because the Naïve blindly guessed it always as not Joe. As a consequence, our chosen metric will be F1-score, so that both precision and recall scores are going to be balanced."
   ]
  },
  {
   "cell_type": "code",
   "execution_count": 29,
   "metadata": {},
   "outputs": [
    {
     "name": "stdout",
     "output_type": "stream",
     "text": [
      "Performance on train dataset:\n",
      "99.5056% is the accuracy of the classifier.\n",
      "1.6575% is the F1-score of the classifier.\n",
      "100.00% of the Joe's accesses are detected.\n",
      "0.84% of the detections are truly from Joe.\n"
     ]
    }
   ],
   "source": [
    "# train model\n",
    "model = DecisionTreeClassifier(max_depth=3).fit(X_train, y_train)\n",
    "\n",
    "print('Performance on train dataset:')\n",
    "y_pred = model.predict(X_train)\n",
    "print_scores(y_pred, y_train)"
   ]
  },
  {
   "cell_type": "code",
   "execution_count": 30,
   "metadata": {},
   "outputs": [],
   "source": [
    "# prepare test dataset\n",
    "df_test = df_later.copy()\n",
    "y_test = encode_joe(df_test['user_id'] == user_id_joe)\n",
    "df_test = transform_features(df_later, features, features_categorical, sites_joe_list, le)\n",
    "X_test = df_test[features].values"
   ]
  },
  {
   "cell_type": "code",
   "execution_count": 31,
   "metadata": {},
   "outputs": [
    {
     "name": "stdout",
     "output_type": "stream",
     "text": [
      "Performance on test dataset:\n",
      "99.4875% is the accuracy of the classifier.\n",
      "0.0000% is the F1-score of the classifier.\n",
      "0.00% of the Joe's accesses are detected.\n",
      "0.00% of the detections are truly from Joe.\n"
     ]
    },
    {
     "name": "stderr",
     "output_type": "stream",
     "text": [
      "C:\\Users\\Diogo\\anaconda3\\lib\\site-packages\\sklearn\\metrics\\_classification.py:1268: UndefinedMetricWarning: Recall is ill-defined and being set to 0.0 due to no true samples. Use `zero_division` parameter to control this behavior.\n",
      "  _warn_prf(average, modifier, msg_start, len(result))\n"
     ]
    }
   ],
   "source": [
    "print('Performance on test dataset:')\n",
    "y_pred = model.predict(X_test)\n",
    "print_scores(y_pred, y_test)"
   ]
  },
  {
   "cell_type": "markdown",
   "metadata": {},
   "source": [
    "The Decision Tree presents a slight increase of performance when compared to the Naïve guess. However, it is far from excellent since there are too wrong detections."
   ]
  },
  {
   "cell_type": "markdown",
   "metadata": {},
   "source": [
    "Before we move on to improve the performance, here is a question. How exactly does this Decision Tree above work in order to classify?\n",
    "\n",
    "In order to help us answer this question, let's plot the nodes of the Decision Tree as a graph plot below."
   ]
  },
  {
   "cell_type": "code",
   "execution_count": 32,
   "metadata": {},
   "outputs": [],
   "source": [
    "# dtreeviz(model, X_train, y_train,\n",
    "#                 target_name=\"target\",\n",
    "#                 feature_names=features,\n",
    "#                 class_names=['Joe', 'not Joe'],\n",
    "#         )"
   ]
  },
  {
   "cell_type": "code",
   "execution_count": 33,
   "metadata": {},
   "outputs": [
    {
     "data": {
      "text/plain": [
       "array(['ru_RU'], dtype=object)"
      ]
     },
     "execution_count": 33,
     "metadata": {},
     "output_type": "execute_result"
    }
   ],
   "source": [
    "le['locale'].inverse_transform([18])"
   ]
  },
  {
   "cell_type": "markdown",
   "metadata": {},
   "source": [
    "The graph above shows that the Decision Tree queries the features in the following order:\n",
    "1. If the language (`locale`) is less than 17.5 then is not Joe with 100% of certainty; else ...\n",
    "1. If the language (`locale`) is more than 18.5 then is is not Joe with 100% of certainty; else ...\n",
    "1. If the duration of access is less than 3.5 than it is Joe with 100% of certainty; else ...\n",
    "1. We run out of questions so it guesses it is not Joe with roughly 10% of error.\n",
    "\n",
    "Mind that `locale = 18` is the Russian language as coded by the `LabelEncoder`. Therefore, the first 2 questions above are mainly telling us that if the language of access is not Russian than it is not \n",
    "Joe for sure.\n",
    "\n",
    "Another observtion is that the `duration` alone feature was not useful, as explained in the previous section. However, it became useful for the remaining cases that are exclusivelly Russian speakers."
   ]
  },
  {
   "cell_type": "markdown",
   "metadata": {},
   "source": [
    "Let's try the performance of other more sophisticted models."
   ]
  },
  {
   "cell_type": "code",
   "execution_count": 34,
   "metadata": {},
   "outputs": [
    {
     "name": "stdout",
     "output_type": "stream",
     "text": [
      "Test F1-score\t Model\n",
      "61.654%\t DecisionTreeClassifier\n",
      "60.294%\t AdaBoostClassifier\n",
      "57.353%\t BaggingClassifier\n",
      "75.294%\t RandomForestClassifier\n",
      "53.333%\t GradientBoostingClassifier\n",
      "4.255%\t GaussianNB\n",
      "\n",
      "Best model: RandomForestClassifier\n",
      "\n",
      "Performance on train dataset:\n",
      "100.0000% is the accuracy of the classifier.\n",
      "100.0000% is the F1-score of the classifier.\n",
      "100.00% of the Joe's accesses are detected.\n",
      "100.00% of the detections are truly from Joe.\n",
      "\n",
      "Performance on test dataset:\n",
      "99.7375% is the accuracy of the classifier.\n",
      "75.2941% is the F1-score of the classifier.\n",
      "72.73% of the Joe's accesses are detected.\n",
      "78.05% of the detections are truly from Joe.\n"
     ]
    }
   ],
   "source": [
    "# score_function = accuracy_score\n",
    "score_function = lambda x, y: f1_score(x, y, pos_label=user_id_joe)\n",
    "\n",
    "models = [\n",
    "    DecisionTreeClassifier(),\n",
    "    AdaBoostClassifier(),\n",
    "    BaggingClassifier(),\n",
    "    RandomForestClassifier(),\n",
    "    GradientBoostingClassifier(),\n",
    "    GaussianNB(),\n",
    "    \n",
    "#     KNeighborsClassifier(n_neighbors=200),\n",
    "    \n",
    "#     QuadraticDiscriminantAnalysis(),\n",
    "#     GaussianProcessClassifier(),\n",
    "#     GaussianProcessClassifier(1.0 * RBF(1.0)),\n",
    "#     SVC(),    \n",
    "#     SVC(kernel=\"linear\", C=0.025),\n",
    "#     SVC(gamma=2, C=1),\n",
    "#     MLPClassifier(),\n",
    "]\n",
    "\n",
    "print('Test F1-score\\t Model')\n",
    "\n",
    "score_best = -np.Inf\n",
    "best_model = None\n",
    "for i_model, model in enumerate(models):\n",
    "    model.fit(X_train, y_train)\n",
    "    y_pred = model.predict(X_test)\n",
    "    score = score_function(y_pred, y_test)\n",
    "        \n",
    "    print('{0:.3%}\\t'.format(score), type(model).__name__)\n",
    "    \n",
    "    if score > score_best:\n",
    "        score_best = score\n",
    "        best_model = model\n",
    "    \n",
    "\n",
    "\n",
    "print('\\nBest model:', type(best_model).__name__)\n",
    "\n",
    "print('\\nPerformance on train dataset:')\n",
    "y_pred = best_model.predict(X_train)\n",
    "print_scores(y_pred, y_train)\n",
    "\n",
    "print('\\nPerformance on test dataset:')\n",
    "y_pred = best_model.predict(X_test)\n",
    "print_scores(y_pred, y_test)"
   ]
  },
  {
   "cell_type": "markdown",
   "metadata": {},
   "source": [
    "The best classifier performance trained above is much better than the previous Decision Tree to the point that it can be deployed."
   ]
  },
  {
   "cell_type": "markdown",
   "metadata": {},
   "source": [
    "# 4 Save"
   ]
  },
  {
   "cell_type": "markdown",
   "metadata": {},
   "source": [
    "## 4.1 Exporting the model"
   ]
  },
  {
   "cell_type": "markdown",
   "metadata": {},
   "source": [
    "Below we store the variables necesary to run a standalone script defined in the `catch_joe` module."
   ]
  },
  {
   "cell_type": "code",
   "execution_count": 35,
   "metadata": {
    "scrolled": true
   },
   "outputs": [],
   "source": [
    "catch_joe_model_parameters = {\n",
    "    'model': model,\n",
    "    'encoder': le,\n",
    "    'joe_top_sites': joe_top_sites,\n",
    "    'features': features,\n",
    "    'features_categorical': features_categorical,\n",
    "}\n",
    "\n",
    "with open('./model/catch_joe.pickle', 'wb') as f:\n",
    "    pickle.dump(catch_joe_model_parameters, f)"
   ]
  },
  {
   "cell_type": "markdown",
   "metadata": {},
   "source": [
    "## 4.2 Running the model on verify dataset"
   ]
  },
  {
   "cell_type": "markdown",
   "metadata": {},
   "source": [
    "Let's use the model saved above through the standalone script."
   ]
  },
  {
   "cell_type": "code",
   "execution_count": 36,
   "metadata": {},
   "outputs": [
    {
     "name": "stdout",
     "output_type": "stream",
     "text": [
      "Counter({1: 22651, 0: 49})\n",
      "0.22% of the predictions are detected as Joe's accesses.\n"
     ]
    }
   ],
   "source": [
    "# below is how to run the script through terminal command in here\n",
    "# !python catch_joe.py -j ./data/verify.json\n",
    "\n",
    "\n",
    "# alternatively, let's run it from the Jupyter Notebook\n",
    "y_pred = catch_joe.main(file_json = './data/verify.json')\n",
    "\n",
    "count = Counter(y_pred)\n",
    "print(count)\n",
    "percentage = count[0] / (count[1] + count[0])\n",
    "print('{0:.2%} of the predictions are detected as Joe\\'s accesses.'.format(percentage))"
   ]
  },
  {
   "cell_type": "markdown",
   "metadata": {},
   "source": [
    "\n",
    "## 4.3 Exporting this Notebook"
   ]
  },
  {
   "cell_type": "markdown",
   "metadata": {},
   "source": [
    "The following code is to convert the present Jupyter Notebook into Python script. The script is the one under version control since we do not want to keep track of JSON codes internal to the `.ipynb` files."
   ]
  },
  {
   "cell_type": "code",
   "execution_count": 37,
   "metadata": {},
   "outputs": [
    {
     "name": "stderr",
     "output_type": "stream",
     "text": [
      "[NbConvertApp] Converting notebook catch_joe_project.ipynb to script\n",
      "[NbConvertApp] Writing 16747 bytes to catch_joe_project.py\n"
     ]
    }
   ],
   "source": [
    "# convert Notebook to Python for better version control\n",
    "! jupyter nbconvert --to script \"catch_joe_project.ipynb\""
   ]
  }
 ],
 "metadata": {
  "kernelspec": {
   "display_name": "Python 3",
   "language": "python",
   "name": "python3"
  },
  "language_info": {
   "codemirror_mode": {
    "name": "ipython",
    "version": 3
   },
   "file_extension": ".py",
   "mimetype": "text/x-python",
   "name": "python",
   "nbconvert_exporter": "python",
   "pygments_lexer": "ipython3",
   "version": "3.7.6"
  }
 },
 "nbformat": 4,
 "nbformat_minor": 4
}
